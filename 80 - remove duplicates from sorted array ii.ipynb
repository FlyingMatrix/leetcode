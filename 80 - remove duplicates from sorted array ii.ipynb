{
 "cells": [
  {
   "cell_type": "code",
   "execution_count": null,
   "metadata": {},
   "outputs": [],
   "source": [
    "# Remove Duplicates from sorted Array II\n",
    "\"\"\"\n",
    "    Given an integer array nums sorted in non-decreasing order, remove some duplicates in-place such that each unique element appears at most twice. \n",
    "    The relative order of the elements should be kept the same.\n",
    "\n",
    "    Since it is impossible to change the length of the array in some languages, you must instead have the result be placed in the first part of the array nums. \n",
    "    More formally, if there are k elements after removing the duplicates, then the first k elements of nums should hold the final result. \n",
    "    It does not matter what you leave beyond the first k elements.\n",
    "\n",
    "    Return k after placing the final result in the first k slots of nums.\n",
    "\n",
    "    Do not allocate extra space for another array. You must do this by modifying the input array in-place with O(1) extra memory.\n",
    "\"\"\""
   ]
  },
  {
   "cell_type": "code",
   "execution_count": 7,
   "metadata": {},
   "outputs": [],
   "source": [
    "# My accepted solution\n",
    "def removeDuplicates(nums):\n",
    "    \"\"\"\n",
    "    :type nums: List[int]\n",
    "    :rtype: int\n",
    "    \"\"\"\n",
    "    l, r = 0, 0\n",
    "\n",
    "    while r < len(nums):\n",
    "        count = 1\n",
    "        while r+1 < len(nums) and nums[r] == nums[r+1]:\n",
    "            r += 1\n",
    "            count += 1\n",
    "        \n",
    "        for i in range(min(2, count)):\n",
    "            nums[l] = nums[r]\n",
    "            l += 1\n",
    "        r += 1\n",
    "    \n",
    "    return l"
   ]
  },
  {
   "cell_type": "code",
   "execution_count": 8,
   "metadata": {},
   "outputs": [
    {
     "name": "stdout",
     "output_type": "stream",
     "text": [
      "[1, 1, 2, 2, 3]\n"
     ]
    }
   ],
   "source": [
    "if __name__ == \"__main__\":\n",
    "    nums = [1,1,1,2,2,3]\n",
    "    k = removeDuplicates(nums)\n",
    "    print(nums[:k])"
   ]
  }
 ],
 "metadata": {
  "kernelspec": {
   "display_name": "pytorch",
   "language": "python",
   "name": "python3"
  },
  "language_info": {
   "codemirror_mode": {
    "name": "ipython",
    "version": 3
   },
   "file_extension": ".py",
   "mimetype": "text/x-python",
   "name": "python",
   "nbconvert_exporter": "python",
   "pygments_lexer": "ipython3",
   "version": "3.9.19"
  }
 },
 "nbformat": 4,
 "nbformat_minor": 2
}
