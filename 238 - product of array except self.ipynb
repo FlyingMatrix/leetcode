{
 "cells": [
  {
   "cell_type": "code",
   "execution_count": null,
   "id": "12ab1b87",
   "metadata": {},
   "outputs": [],
   "source": [
    "# 238 - Product of Array Except Self\n",
    "\"\"\"\n",
    "    Given an integer array nums, return an array answer such that answer[i] is equal to the product of all the elements of nums except nums[i].\n",
    "    The product of any prefix or suffix of nums is guaranteed to fit in a 32-bit integer.\n",
    "    You must write an algorithm that runs in O(n) time and without using the division operation.\n",
    "\n",
    "    Example 1:\n",
    "        Input: nums = [1,2,3,4]\n",
    "        Output: [24,12,8,6]\n",
    "\n",
    "    Example 2:\n",
    "        Input: nums = [-1,1,0,-3,3]\n",
    "        Output: [0,0,9,0,0]\n",
    "\"\"\""
   ]
  },
  {
   "cell_type": "code",
   "execution_count": null,
   "id": "3c4c6b91",
   "metadata": {},
   "outputs": [],
   "source": [
    "# My accepted solution:\n",
    "#\n",
    "class Solution(object):\n",
    "    def productExceptSelf(self, nums):\n",
    "        \"\"\"\n",
    "        :type nums: List[int]\n",
    "        :rtype: List[int]\n",
    "        \"\"\"\n",
    "        n = len(nums)\n",
    "        answer = [1] * n\n",
    "        # calculate prefix (the product of elements before nums[i])\n",
    "        prefix = 1\n",
    "        for i in range(n):\n",
    "            answer[i] = prefix\n",
    "            prefix *= nums[i]\n",
    "        # calculate suffix (the product of elements after nums[i])\n",
    "        suffix = 1\n",
    "        for i in range(n-1, -1, -1):\n",
    "            answer[i] *= suffix\n",
    "            suffix *= nums[i]\n",
    "        \n",
    "        return answer\n",
    "\n",
    "# Time complexity: O(n), while n = len(nums)\n",
    "# Space complexity: O(n)"
   ]
  }
 ],
 "metadata": {
  "language_info": {
   "name": "python"
  }
 },
 "nbformat": 4,
 "nbformat_minor": 5
}
