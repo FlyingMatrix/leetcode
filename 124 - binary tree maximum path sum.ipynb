{
 "cells": [
  {
   "cell_type": "code",
   "execution_count": null,
   "id": "6a1d28ed",
   "metadata": {},
   "outputs": [],
   "source": [
    "# 124 - Binary Tree Maximum Path Sum\n",
    "\"\"\"\n",
    "    A path in a binary tree is a sequence of nodes where each pair of adjacent nodes in the sequence has an edge connecting them. \n",
    "    A node can only appear in the sequence at most once. Note that the path does not need to pass through the root.\n",
    "\n",
    "    The path sum of a path is the sum of the node's values in the path.\n",
    "\n",
    "    Given the root of a binary tree, return the maximum path sum of any non-empty path.\n",
    "\"\"\""
   ]
  },
  {
   "cell_type": "code",
   "execution_count": null,
   "id": "25083264",
   "metadata": {},
   "outputs": [],
   "source": [
    "# My accepted solution:\n",
    "#\n",
    "# Definition for a binary tree node.\n",
    "# class TreeNode(object):\n",
    "#     def __init__(self, val=0, left=None, right=None):\n",
    "#         self.val = val\n",
    "#         self.left = left\n",
    "#         self.right = right\n",
    "\n",
    "class Solution(object):\n",
    "    def maxPathSum(self, root):\n",
    "        \"\"\"\n",
    "        :type root: Optional[TreeNode]\n",
    "        :rtype: int\n",
    "        \"\"\"\n",
    "        \n",
    "# Time complexity:\n",
    "# Space complexity:"
   ]
  }
 ],
 "metadata": {
  "language_info": {
   "name": "python"
  }
 },
 "nbformat": 4,
 "nbformat_minor": 5
}
