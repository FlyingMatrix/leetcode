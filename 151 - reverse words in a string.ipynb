{
 "cells": [
  {
   "cell_type": "code",
   "execution_count": null,
   "id": "5eb8aee1",
   "metadata": {},
   "outputs": [],
   "source": [
    "# 151 - Reverse Words in a String\n",
    "\"\"\"\n",
    "    Given an input string s, reverse the order of the words.\n",
    "    A word is defined as a sequence of non-space characters. \n",
    "    The words in s will be separated by at least one space.\n",
    "    Return a string of the words in reverse order concatenated by a single space.\n",
    "    Note that s may contain leading or trailing spaces or multiple spaces between two words. \n",
    "    The returned string should only have a single space separating the words. Do not include any extra spaces.\n",
    "\n",
    "    Example 1:\n",
    "    Input: s = \"the sky is blue\"\n",
    "    Output: \"blue is sky the\"\n",
    "\n",
    "    Example 2:\n",
    "    Input: s = \"  hello world  \"\n",
    "    Output: \"world hello\"\n",
    "    Explanation: Your reversed string should not contain leading or trailing spaces.\n",
    "\n",
    "    Example 3:\n",
    "    Input: s = \"a good   example\"\n",
    "    Output: \"example good a\"\n",
    "    Explanation: You need to reduce multiple spaces between two words to a single space in the reversed string.\n",
    "\"\"\""
   ]
  },
  {
   "cell_type": "code",
   "execution_count": null,
   "id": "9513de16",
   "metadata": {},
   "outputs": [],
   "source": [
    "# My accepted solution I:\n",
    "#\n",
    "class Solution(object):\n",
    "    def reverseWords(self, s):\n",
    "        \"\"\"\n",
    "        :type s: str\n",
    "        :rtype: str\n",
    "        \"\"\"\n",
    "        words = s.strip().split()\n",
    "        words.reverse()\n",
    "        return ' '.join(words)\n",
    "\n",
    "# Time complexity: let n be the length of the input string s\n",
    "#                  strip(): need to scan from both ends to find the first and last non-whitespace characters -> O(n)\n",
    "#                  split(): need to scan the entire strings and split into words -> O(n)\n",
    "#                  reverse(): reverse the list of k words (k <= n) -> O(k)\n",
    "#                  ' '.join(): create a new string of size up to n -> O(n)\n",
    "#                  hence, time complexity = O(n)\n",
    "# Space complexity: strip(): may create a new string -> O(n)\n",
    "#                   split(): produce a list of words, in worst case, all characters are part of separate words -> O(n)\n",
    "#                   reverse(): in-place for the list -> O(1)\n",
    "#                   ' '.join(): create a new string of size up to n -> O(n)\n",
    "#                   hence, space complexity = O(n)"
   ]
  },
  {
   "cell_type": "code",
   "execution_count": null,
   "id": "a4409d8a",
   "metadata": {},
   "outputs": [],
   "source": [
    "# My accepted solution II:\n",
    "#\n",
    "class Solution(object):\n",
    "    def reverseWords(self, s):\n",
    "        \"\"\"\n",
    "        :type s: str\n",
    "        :rtype: str\n",
    "        \"\"\"\n",
    "        words = s.strip().split()\n",
    "        reversed_words = words[::-1]\n",
    "        return ' '.join(reversed_words)\n",
    "\n",
    "# Time complexity: let n be the length of the input string s and k be the length of the words list\n",
    "#                  strip(): O(n)\n",
    "#                  split(): O(n)\n",
    "#                  words[::-1]: O(k)\n",
    "#                  ' '.join(): O(n)\n",
    "#                  hence, time complexity = O(n)\n",
    "# Space complexity: strip(): O(n)\n",
    "#                   split(): O(n)\n",
    "#                   words[::-1]: create a new reversed list -> O(k)\n",
    "#                   ' '.join(): O(n)\n",
    "#                   hence, space complexity = O(n)"
   ]
  }
 ],
 "metadata": {
  "language_info": {
   "name": "python"
  }
 },
 "nbformat": 4,
 "nbformat_minor": 5
}
