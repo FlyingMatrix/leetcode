{
 "cells": [
  {
   "cell_type": "code",
   "execution_count": null,
   "metadata": {},
   "outputs": [],
   "source": [
    "# 682 - Baseball Game\n",
    "\"\"\" \n",
    "    You are keeping the scores for a baseball game with strange rules. At the beginning of the game, you start with an empty record.\n",
    "\n",
    "    You are given a list of strings operations, where operations[i] is the ith operation you must apply to the record and is one of the following:\n",
    "\n",
    "    An integer x.\n",
    "    Record a new score of x.\n",
    "    '+'.\n",
    "    Record a new score that is the sum of the previous two scores.\n",
    "    'D'.\n",
    "    Record a new score that is the double of the previous score.\n",
    "    'C'.\n",
    "    Invalidate the previous score, removing it from the record.\n",
    "    Return the sum of all the scores on the record after applying all the operations.\n",
    "\n",
    "    The test cases are generated such that the answer and all intermediate calculations fit in a 32-bit integer and that all operations are valid.\n",
    "\"\"\""
   ]
  },
  {
   "cell_type": "code",
   "execution_count": 9,
   "metadata": {},
   "outputs": [],
   "source": [
    "# My accepted solution (with Python 3)\n",
    "class Solution:\n",
    "    def calPoints(self, operations: List[str]) -> int:\n",
    "        \n",
    "        result = []\n",
    "        record = 0\n",
    "\n",
    "        length = len(operations)\n",
    "        for i in range(length):\n",
    "            item = operations[i]\n",
    "\n",
    "            if (item[0] == \"-\"):\n",
    "                if item[1:].isdigit():\n",
    "                    result.append(int(item))\n",
    "                    continue\n",
    "            elif item.isdigit():\n",
    "                result.append(int(item))\n",
    "                continue\n",
    "            else:\n",
    "                match item:\n",
    "                    case \"C\":\n",
    "                        result.pop()\n",
    "                    case \"D\":\n",
    "                        result.append(result[-1] * 2)\n",
    "                    case \"+\":\n",
    "                        result.append(result[-1] + result[-2])\n",
    "        \n",
    "        for j in range(len(result)):\n",
    "            record += result[j]\n",
    "\n",
    "        return record"
   ]
  }
 ],
 "metadata": {
  "kernelspec": {
   "display_name": "pytorch",
   "language": "python",
   "name": "python3"
  },
  "language_info": {
   "codemirror_mode": {
    "name": "ipython",
    "version": 3
   },
   "file_extension": ".py",
   "mimetype": "text/x-python",
   "name": "python",
   "nbconvert_exporter": "python",
   "pygments_lexer": "ipython3",
   "version": "3.9.12"
  }
 },
 "nbformat": 4,
 "nbformat_minor": 2
}
