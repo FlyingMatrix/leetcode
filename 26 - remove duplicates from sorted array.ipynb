{
 "cells": [
  {
   "cell_type": "code",
   "execution_count": null,
   "metadata": {},
   "outputs": [],
   "source": [
    "# 26 - Remove Duplicates from Sorted Array\n",
    "\"\"\"\n",
    "    Given an integer array nums sorted in non-decreasing order, remove the duplicates in-place such that each unique element appears only once. \n",
    "    The relative order of the elements should be kept the same. Then return the number of unique elements in nums.\n",
    "\n",
    "    Consider the number of unique elements of nums to be k, to get accepted, you need to do the following things:\n",
    "\n",
    "    Change the array nums such that the first k elements of nums contain the unique elements in the order they were present in nums initially.\n",
    "    The remaining elements of nums are not important as well as the size of nums.\n",
    "    Return k.\n",
    "\"\"\""
   ]
  },
  {
   "cell_type": "code",
   "execution_count": null,
   "metadata": {},
   "outputs": [],
   "source": [
    "# My accepted solution\n",
    "class Solution(object):\n",
    "    def removeDuplicates(self, nums):\n",
    "        \"\"\"\n",
    "        :type nums: List[int]\n",
    "        :rtype: int\n",
    "        \"\"\"\n",
    "        mySet = set()\n",
    "        for i in range(len(nums)):\n",
    "            mySet.add(nums[i])\n",
    "        mySet = sorted(mySet)\n",
    "\n",
    "        m = 0\n",
    "        for item in mySet:\n",
    "            nums[m] = item\n",
    "            m += 1 "
   ]
  }
 ],
 "metadata": {
  "language_info": {
   "name": "python"
  }
 },
 "nbformat": 4,
 "nbformat_minor": 2
}
