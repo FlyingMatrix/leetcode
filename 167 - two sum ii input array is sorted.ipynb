{
 "cells": [
  {
   "cell_type": "code",
   "execution_count": null,
   "metadata": {},
   "outputs": [],
   "source": [
    "# 167 - Two Sum II Input Array is Sorted\n",
    "\"\"\"\n",
    "    Given a 1-indexed array of integers numbers that is already sorted in non-decreasing order, \n",
    "    find two numbers such that they add up to a specific target number. \n",
    "    Let these two numbers be numbers[index1] and numbers[index2] where 1 <= index1 < index2 <= numbers.length.\n",
    "\n",
    "    Return the indices of the two numbers, index1 and index2, added by one as an integer array [index1, index2] of length 2.\n",
    "\n",
    "    The tests are generated such that there is exactly one solution. You may not use the same element twice.\n",
    "\n",
    "    Your solution must use only constant extra space.\n",
    "\"\"\""
   ]
  },
  {
   "cell_type": "code",
   "execution_count": null,
   "metadata": {},
   "outputs": [],
   "source": [
    "# My accepted solution\n",
    "class Solution(object):\n",
    "    def twoSum(self, numbers, target):\n",
    "        \"\"\"\n",
    "        :type numbers: List[int]\n",
    "        :type target: int\n",
    "        :rtype: List[int]\n",
    "        \"\"\"\n",
    "        index_1 = 0\n",
    "        index_2 = len(numbers)-1\n",
    "\n",
    "        while (index_1 < index_2):\n",
    "            sum = numbers[index_1] + numbers[index_2]\n",
    "            if sum < target:\n",
    "                index_1 += 1\n",
    "            elif sum > target:\n",
    "                index_2 -= 1\n",
    "            else:\n",
    "                return [index_1+1, index_2+1]   "
   ]
  }
 ],
 "metadata": {
  "language_info": {
   "name": "python"
  }
 },
 "nbformat": 4,
 "nbformat_minor": 2
}
