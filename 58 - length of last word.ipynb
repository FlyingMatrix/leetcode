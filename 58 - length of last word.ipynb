{
 "cells": [
  {
   "cell_type": "code",
   "execution_count": null,
   "id": "66ab2471",
   "metadata": {},
   "outputs": [],
   "source": [
    "# 58 - Length of Last Word\n",
    "\"\"\"\n",
    "    Given a string s consisting of words and spaces, return the length of the last word in the string.\n",
    "    A word is a maximal substring consisting of non-space characters only.\n",
    "\"\"\""
   ]
  },
  {
   "cell_type": "code",
   "execution_count": null,
   "id": "663ab956",
   "metadata": {},
   "outputs": [],
   "source": [
    "# My accepted solution:\n",
    "# \n",
    "class Solution(object):\n",
    "    def lengthOfLastWord(self, s):\n",
    "        \"\"\"\n",
    "        :type s: str\n",
    "        :rtype: int\n",
    "        \"\"\"\n",
    "        word = s.strip().split()\n",
    "        return len(word[-1])\n",
    "\n",
    "# Time complexity: let n = len(s)\n",
    "#                  .strip(): O(n)\n",
    "#                  .split(): O(n)\n",
    "#                  so time complexity = O(n)\n",
    "# Space complexity: .strip(): O(n) - creates a new trimmed copy of the string\n",
    "#                   .split(): O(n) - stores all words in a list\n",
    "#                   so space complexity = O(n)"
   ]
  }
 ],
 "metadata": {
  "language_info": {
   "name": "python"
  }
 },
 "nbformat": 4,
 "nbformat_minor": 5
}
