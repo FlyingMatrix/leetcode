{
 "cells": [
  {
   "cell_type": "code",
   "execution_count": null,
   "id": "7408a202",
   "metadata": {},
   "outputs": [],
   "source": [
    "# 135 - Candy\n",
    "\"\"\"\n",
    "    There are n children standing in a line. Each child is assigned a rating value given in the integer array ratings.\n",
    "    You are giving candies to these children subjected to the following requirements:\n",
    "    - Each child must have at least one candy.\n",
    "    - Children with a higher rating get more candies than their neighbors.\n",
    "    Return the minimum number of candies you need to have to distribute the candies to the children.\n",
    "\n",
    "    Example 1:\n",
    "    Input: ratings = [1,0,2]\n",
    "    Output: 5\n",
    "    Explanation: You can allocate to the first, second and third child with 2, 1, 2 candies respectively.\n",
    "\n",
    "    Example 2:\n",
    "    Input: ratings = [1,2,2]\n",
    "    Output: 4\n",
    "    Explanation: You can allocate to the first, second and third child with 1, 2, 1 candies respectively.\n",
    "    The third child gets 1 candy because it satisfies the above two conditions.\n",
    "\"\"\""
   ]
  },
  {
   "cell_type": "code",
   "execution_count": null,
   "id": "8179c75a",
   "metadata": {},
   "outputs": [],
   "source": [
    "# My accepted solution:\n",
    "#\n",
    "class Solution(object):\n",
    "    def candy(self, ratings):\n",
    "        \"\"\"\n",
    "        :type ratings: List[int]\n",
    "        :rtype: int\n",
    "        \"\"\"\n",
    "        candies = [1] * len(ratings)\n",
    "        # from left to right\n",
    "        for i in range(1, len(ratings)):\n",
    "            if ratings[i] > ratings[i-1]:\n",
    "                candies[i] = candies[i-1] + 1\n",
    "        # from right to left\n",
    "        for i in range(len(ratings)-2, -1, -1):\n",
    "            if ratings[i] > ratings[i+1]:\n",
    "                candies[i] = max(candies[i], candies[i+1]+1)\n",
    "                \n",
    "        return(sum(candies))\n",
    "\n",
    "# Time complexity: let n = len(ratings)\n",
    "#                  initialize candies[] -> O(n)\n",
    "#                  left to right -> O(n)\n",
    "#                  right to left -> O(n)\n",
    "#                  sum(candies) -> O(n)\n",
    "#                  hence, time complexity = O(n) * 4 = O(n)\n",
    "# Space complexity: create candies[] only -> O(n)"
   ]
  }
 ],
 "metadata": {
  "language_info": {
   "name": "python"
  }
 },
 "nbformat": 4,
 "nbformat_minor": 5
}
