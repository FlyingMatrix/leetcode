{
 "cells": [
  {
   "cell_type": "code",
   "execution_count": null,
   "id": "b2994218",
   "metadata": {},
   "outputs": [],
   "source": [
    "# 100 - Same Tree\n",
    "\"\"\"\n",
    "    Given the roots of two binary trees p and q, write a function to check if they are the same or not.\n",
    "    Two binary trees are considered the same if they are structurally identical, and the nodes have the same value.\n",
    "\"\"\""
   ]
  },
  {
   "cell_type": "code",
   "execution_count": null,
   "id": "9960b52a",
   "metadata": {},
   "outputs": [],
   "source": [
    "# My accepted solution:\n",
    "#\n",
    "# Definition for a binary tree node.\n",
    "# class TreeNode(object):\n",
    "#     def __init__(self, val=0, left=None, right=None):\n",
    "#         self.val = val\n",
    "#         self.left = left\n",
    "#         self.right = right\n",
    "\n",
    "class Solution(object):\n",
    "    def isSameTree(self, p, q):\n",
    "        \"\"\"\n",
    "        :type p: Optional[TreeNode]\n",
    "        :type q: Optional[TreeNode]\n",
    "        :rtype: bool\n",
    "        \"\"\"\n",
    "        if p == None and q == None:\n",
    "            return True\n",
    "        elif p == None and q != None:\n",
    "            return False\n",
    "        elif p != None and q == None:\n",
    "            return False\n",
    "        elif p != None and q != None and p.val != q.val:\n",
    "            return False\n",
    "        else: \n",
    "            return self.isSameTree(p.left, q.left) and self.isSameTree(p.right, q.right)\n",
    "\n",
    "# Time complexity: O(n), here n is the number of nodes in the smaller of the two trees if both trees are identical.\n",
    "# Space complexity: the space complexity corresponds to the height of the binary tree\n",
    "#                   - Best case: O(log(n)), for a Balanced Binary Tree\n",
    "#                   - Worst case: O(n), for a Skewed Binary Tree"
   ]
  }
 ],
 "metadata": {
  "language_info": {
   "name": "python"
  }
 },
 "nbformat": 4,
 "nbformat_minor": 5
}
