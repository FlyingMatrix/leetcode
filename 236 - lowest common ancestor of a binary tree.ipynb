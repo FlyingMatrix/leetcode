{
 "cells": [
  {
   "cell_type": "code",
   "execution_count": null,
   "id": "0c3a1ec8",
   "metadata": {},
   "outputs": [],
   "source": [
    "# 236 - Lowest Common Ancestor of a Binary Tree\n",
    "\"\"\"\n",
    "    Given a binary tree, find the lowest common ancestor (LCA) of two given nodes in the tree.\n",
    "\n",
    "    According to the definition of LCA on Wikipedia: \"The lowest common ancestor is defined between two nodes p and q \n",
    "    as the lowest node in T that has both p and q as descendants (where we allow a node to be a descendant of itself).\"\n",
    "\"\"\""
   ]
  },
  {
   "cell_type": "code",
   "execution_count": null,
   "id": "301f9616",
   "metadata": {},
   "outputs": [],
   "source": [
    "# My accepted solution\n",
    "#\n",
    "# Definition for a binary tree node.\n",
    "# class TreeNode(object):\n",
    "#     def __init__(self, x):\n",
    "#         self.val = x\n",
    "#         self.left = None\n",
    "#         self.right = None\n",
    "\n",
    "class Solution(object):\n",
    "    def lowestCommonAncestor(self, root, p, q):\n",
    "        \"\"\"\n",
    "        :type root: TreeNode\n",
    "        :type p: TreeNode\n",
    "        :type q: TreeNode\n",
    "        :rtype: TreeNode\n",
    "        \"\"\"\n",
    "        if root == None:\n",
    "            return None\n",
    "        elif p == root or q == root:\n",
    "            return root\n",
    "        else:\n",
    "            left = self.lowestCommonAncestor(root.left, p, q)\n",
    "            right = self.lowestCommonAncestor(root.right, p, q)\n",
    "            \"\"\"\n",
    "                when left != None and right != None, p and q are in different subtrees -> root\n",
    "                when left != None and right == None, p and q are in root.left -> left\n",
    "                when left == None and right != None, p and q are in root.right -> right  \n",
    "            \"\"\"\n",
    "            if left and right:\n",
    "                return root\n",
    "            else:\n",
    "                return left if left else right     \n",
    "\n",
    "# Time complexity: in worst case, the function visits each node once in the binary tree, so time complexity = O(n)\n",
    "# Space complexity: the space complexity corresponds to the height of the binary tree, so space complexity = O(h)\n",
    "#                   - best case: O(log(n)) for balanced binary tree\n",
    "#                   - worst case: O(n) for skewed binary tree"
   ]
  }
 ],
 "metadata": {
  "language_info": {
   "name": "python"
  }
 },
 "nbformat": 4,
 "nbformat_minor": 5
}
