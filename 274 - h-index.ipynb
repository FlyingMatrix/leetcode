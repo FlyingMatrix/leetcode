{
 "cells": [
  {
   "cell_type": "code",
   "execution_count": null,
   "metadata": {},
   "outputs": [],
   "source": [
    "# 274 - H-Index\n",
    "\"\"\"\n",
    "    Given an array of integers citations where citations[i] is the number of citations a researcher received for their ith paper, return the researcher's h-index.\n",
    "\n",
    "    According to the definition of h-index on Wikipedia: \n",
    "    The h-index is defined as the maximum value of h such that the given researcher has published at least h papers that have each been cited at least h times.\n",
    "\"\"\""
   ]
  },
  {
   "cell_type": "code",
   "execution_count": null,
   "metadata": {},
   "outputs": [],
   "source": [
    "# My accepted solultion\n",
    "class Solution(object):\n",
    "    def hIndex(self, citations):\n",
    "        \"\"\"\n",
    "        :type citations: List[int]\n",
    "        :rtype: int\n",
    "        \"\"\"\n",
    "        citations.sort(reverse=True)\n",
    "        result = 0\n",
    "        h_index = 0\n",
    "\n",
    "        for idx in range(len(citations)):\n",
    "            result = min(idx+1, citations[idx])\n",
    "            if result > h_index:\n",
    "                h_index = result\n",
    "        \n",
    "        return h_index"
   ]
  }
 ],
 "metadata": {
  "language_info": {
   "name": "python"
  }
 },
 "nbformat": 4,
 "nbformat_minor": 2
}
