{
 "cells": [
  {
   "cell_type": "code",
   "execution_count": null,
   "id": "499dac29",
   "metadata": {},
   "outputs": [],
   "source": [
    "# 112 - Path Sum\n",
    "\"\"\"\n",
    "    Given the root of a binary tree and an integer targetSum, \n",
    "    return true if the tree has a root-to-leaf path such that adding up all the values along the path equals targetSum.\n",
    "\n",
    "    A leaf is a node with no children.\n",
    "\"\"\""
   ]
  },
  {
   "cell_type": "code",
   "execution_count": null,
   "id": "88555735",
   "metadata": {},
   "outputs": [],
   "source": [
    "# My accepted solution:\n",
    "#\n",
    "# Definition for a binary tree node.\n",
    "# class TreeNode(object):\n",
    "#     def __init__(self, val=0, left=None, right=None):\n",
    "#         self.val = val\n",
    "#         self.left = left\n",
    "#         self.right = right\n",
    "\n",
    "class Solution(object):\n",
    "    def hasPathSum(self, root, targetSum):\n",
    "        \"\"\"\n",
    "        :type root: Optional[TreeNode]\n",
    "        :type targetSum: int\n",
    "        :rtype: bool\n",
    "        \"\"\"\n",
    "        if root == None:\n",
    "            return False\n",
    "        elif root.left == None and root.right == None:\n",
    "            return root.val == targetSum\n",
    "        else:\n",
    "            return self.hasPathSum(root.left, targetSum-root.val) or self.hasPathSum(root.right, targetSum-root.val)\n",
    "\n",
    "# Time complexity: in worst case, the function has to visit every node of the binary tree, so time complexity = O(n),\n",
    "#                  here n is the number of nodes in the binary tree.\n",
    "# Space complexity: the recursion is conducted corresponding to the height of the binary tree, so space complexity = O(h), \n",
    "#                   best case - O(log(n)) for a balanced binary tree\n",
    "#                   worst case - O(n) for a skewed binary tree"
   ]
  }
 ],
 "metadata": {
  "language_info": {
   "name": "python"
  }
 },
 "nbformat": 4,
 "nbformat_minor": 5
}
