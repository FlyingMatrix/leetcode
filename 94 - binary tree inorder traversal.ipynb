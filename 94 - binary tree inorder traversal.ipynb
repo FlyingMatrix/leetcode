{
 "cells": [
  {
   "cell_type": "code",
   "execution_count": null,
   "metadata": {},
   "outputs": [],
   "source": [
    "# Binary Tree Inorder Traversal\n",
    "\"\"\" \n",
    "    Given the root of a binary tree, return the inorder traversal of its nodes' values.\n",
    "\"\"\""
   ]
  },
  {
   "cell_type": "code",
   "execution_count": null,
   "metadata": {},
   "outputs": [],
   "source": [
    "# My accepted solution\n",
    "\n",
    "# Definition for a binary tree node.\n",
    "# class TreeNode:\n",
    "#     def __init__(self, val=0, left=None, right=None):\n",
    "#         self.val = val\n",
    "#         self.left = left\n",
    "#         self.right = right\n",
    "\n",
    "class Solution:\n",
    "    def inorderTraversal(self, root: Optional[TreeNode]) -> List[int]:\n",
    "        self.stack = []\n",
    "        self.output = []\n",
    "        while root:\n",
    "            self.stack.append(root)\n",
    "            root = root.left\n",
    "        \n",
    "        while self.stack != []:\n",
    "            res = self.stack.pop()\n",
    "            cur = res.right\n",
    "            while cur:\n",
    "                self.stack.append(cur)\n",
    "                cur = cur.left\n",
    "            self.output.append(res.val)\n",
    "\n",
    "        return self.output\n",
    "\n",
    "# Time complexity: O(h), while h is the height of the binary tree\n",
    "# Space complexity: O(n), while n is the amount of the binary tree nodes"
   ]
  }
 ],
 "metadata": {
  "language_info": {
   "name": "python"
  }
 },
 "nbformat": 4,
 "nbformat_minor": 2
}
