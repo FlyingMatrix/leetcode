{
 "cells": [
  {
   "cell_type": "code",
   "execution_count": null,
   "metadata": {},
   "outputs": [],
   "source": [
    "# 994 - Rotting Oranges\n",
    "\"\"\"\n",
    "You are given an m x n grid where each cell can have one of three values:\n",
    "\n",
    "0 representing an empty cell,\n",
    "1 representing a fresh orange, or\n",
    "2 representing a rotten orange.\n",
    "Every minute, any fresh orange that is 4-directionally adjacent to a rotten orange becomes rotten.\n",
    "\n",
    "Return the minimum number of minutes that must elapse until no cell has a fresh orange. If this is impossible, return -1.\n",
    "\"\"\""
   ]
  },
  {
   "cell_type": "code",
   "execution_count": 1,
   "metadata": {},
   "outputs": [],
   "source": [
    "from collections import deque\n",
    "\n",
    "class Solution(object):\n",
    "    def orangesRotting(self, grid):\n",
    "        \"\"\"\n",
    "        :type grid: List[List[int]]\n",
    "        :rtype: int\n",
    "        \"\"\"\n",
    "        q = deque()\n",
    "        time, fresh = 0, 0\n",
    "        ROWS, COLS = len(grid), len(grid[0])\n",
    "\n",
    "        for r in range(ROWS):\n",
    "            for c in range(COLS):\n",
    "                if grid[r][c] == 1:\n",
    "                    fresh += 1\n",
    "                if grid[r][c] == 2:\n",
    "                    q.append([r, c])\n",
    "\n",
    "        directions = [[0, 1], [0, -1], [1, 0], [-1, 0]]\n",
    "\n",
    "        while q and fresh > 0:\n",
    "            for i in range(len(q)):\n",
    "                r, c = q.popleft()\n",
    "                for dr, dc in directions:\n",
    "                    row, col = r + dr, c + dc\n",
    "                    if(row < 0 or row == ROWS or\n",
    "                       col < 0 or col == COLS or\n",
    "                       grid[row][col] != 1):\n",
    "                        continue\n",
    "                    grid[row][col] = 2\n",
    "                    q.append([row, col])\n",
    "                    fresh -= 1\n",
    "            time += 1\n",
    "\n",
    "        return -1 if fresh > 0 else time\n",
    "    \n",
    "# Time complexity: O(m*n) at most -> visiting each of the cell\n",
    "# Space (Memory) complexity: O(m*n) at most"
   ]
  }
 ],
 "metadata": {
  "kernelspec": {
   "display_name": "pytorch",
   "language": "python",
   "name": "python3"
  },
  "language_info": {
   "codemirror_mode": {
    "name": "ipython",
    "version": 3
   },
   "file_extension": ".py",
   "mimetype": "text/x-python",
   "name": "python",
   "nbconvert_exporter": "python",
   "pygments_lexer": "ipython3",
   "version": "3.9.12"
  }
 },
 "nbformat": 4,
 "nbformat_minor": 2
}
