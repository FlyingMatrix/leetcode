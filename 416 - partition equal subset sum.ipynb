{
 "cells": [
  {
   "cell_type": "code",
   "execution_count": null,
   "metadata": {},
   "outputs": [],
   "source": [
    "# 416 - Partition Equal Subset Sum\n",
    "\"\"\"\n",
    "Given an integer array nums, return true if you can partition the array into two subsets \n",
    "such that the sum of the elements in both subsets is equal or false otherwise.\n",
    "\n",
    "Example 1:\n",
    "Input: nums = [1,5,11,5]\n",
    "Output: true\n",
    "Explanation: The array can be partitioned as [1, 5, 5] and [11].\n",
    "\n",
    "Example 2:\n",
    "Input: nums = [1,2,3,5]\n",
    "Output: false\n",
    "Explanation: The array cannot be partitioned into equal sum subsets.\n",
    "\n",
    "Constraints:\n",
    "1 <= nums.length <= 200\n",
    "1 <= nums[i] <= 100\n",
    "\"\"\""
   ]
  },
  {
   "cell_type": "code",
   "execution_count": null,
   "metadata": {},
   "outputs": [],
   "source": [
    "# Problem Analysis\n",
    "\"\"\"\n",
    "    The question could be transferred as:\n",
    "    select some integers from nums[] to make the sum of these integers equals to SUM/2,\n",
    "    where the SUM is the sum of all elements in nums[].\n",
    "\n",
    "    Define boolean array dp[i][j] to present: \n",
    "    Can we select a subset from i integers such that the sum of all elements in this subset equals to j?\n",
    "    dp[i][j] = True or False\n",
    "\n",
    "    What we want to know is -> dp[nums.length][SUM/2]\n",
    "\n",
    "    Base case:\n",
    "        dp[0][...] = false\n",
    "        dp[...][0] = true\n",
    "\n",
    "    State transfer:\n",
    "        for i-th integer:\n",
    "            if nums[i-1] is not selected as the element of subset, dp[i][j] will depends on dp[i-1][j]\n",
    "            if nums[i-1] is selected as the element of subset, dp[i][j] will depends on dp[i-1][j-nums[i]]\n",
    "\"\"\""
   ]
  },
  {
   "cell_type": "code",
   "execution_count": 1,
   "metadata": {},
   "outputs": [],
   "source": [
    "class Solution(object):\n",
    "    def canPartition(self, nums):\n",
    "        \"\"\"\n",
    "        :type nums: List[int]\n",
    "        :rtype: bool\n",
    "        \"\"\"\n",
    "        n = len(nums)\n",
    "        if (n < 2):\n",
    "            return False # can't be divided into 2 subsets\n",
    "\n",
    "        sum = 0\n",
    "        for i in range(n):\n",
    "            sum += nums[i]\n",
    "        if (sum % 2 != 0): \n",
    "            return False # sum can't be odd number\n",
    "        target = sum // 2\n",
    "\n",
    "        max = sorted(nums)[-1]\n",
    "        if (max > target):\n",
    "            return False \n",
    "\n",
    "        dp = [[False] * (target + 1) for i in range (n + 1)]\n",
    "        dp[0][0] = True\n",
    "\n",
    "        for i in range (1, n+1):\n",
    "            for j in range (1, target+1):\n",
    "                if (j < nums[i-1]):\n",
    "                    dp[i][j] = dp[i-1][j]\n",
    "                else:\n",
    "                    dp[i][j] = dp[i-1][j] or dp[i-1][j-nums[i-1]]\n",
    "        \n",
    "        return dp[n][target]\n",
    "\n",
    "# Time complexity: O(n*target)\n",
    "# Space complexity: O(n*target)        \n"
   ]
  }
 ],
 "metadata": {
  "kernelspec": {
   "display_name": "base",
   "language": "python",
   "name": "python3"
  },
  "language_info": {
   "codemirror_mode": {
    "name": "ipython",
    "version": 3
   },
   "file_extension": ".py",
   "mimetype": "text/x-python",
   "name": "python",
   "nbconvert_exporter": "python",
   "pygments_lexer": "ipython3",
   "version": "3.9.12"
  }
 },
 "nbformat": 4,
 "nbformat_minor": 2
}
