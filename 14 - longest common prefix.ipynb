{
 "cells": [
  {
   "cell_type": "code",
   "execution_count": null,
   "id": "62c71d6d",
   "metadata": {},
   "outputs": [],
   "source": [
    "# 14 - Longest Common Prefix\n",
    "\"\"\"\n",
    "    Write a function to find the longest common prefix string amongst an array of strings.\n",
    "    If there is no common prefix, return an empty string \"\".\n",
    "\n",
    "    Example 1:\n",
    "        Input: strs = [\"flower\",\"flow\",\"flight\"]\n",
    "        Output: \"fl\"\n",
    "    \n",
    "    Example 2:\n",
    "        Input: strs = [\"dog\",\"racecar\",\"car\"]\n",
    "        Output: \"\"\n",
    "        Explanation: There is no common prefix among the input strings.\n",
    "\"\"\""
   ]
  },
  {
   "cell_type": "code",
   "execution_count": null,
   "id": "6220499c",
   "metadata": {},
   "outputs": [],
   "source": [
    "# My accepted solution:\n",
    "#\n",
    "class Solution(object):\n",
    "    def longestCommonPrefix(self, strs):\n",
    "        \"\"\"\n",
    "        :type strs: List[str]\n",
    "        :rtype: str\n",
    "        \"\"\"\n",
    "        if not strs or \"\" in strs:\n",
    "            return \"\"\n",
    "        if len(strs) == 1: # only one string in the list\n",
    "            return strs[0]\n",
    "        \n",
    "        output = \"\"\n",
    "        for i in range(len(strs[0])):\n",
    "            for j in range(1, len(strs)):\n",
    "                if i >= len(strs[j]) or strs[j][i] != strs[0][i]:\n",
    "                    return output\n",
    "                else:\n",
    "                    continue\n",
    "            output += strs[0][i]\n",
    "        return output\n",
    "    \n",
    "# Time complexity: O(m*n), while m = len(strs[0]), n = len(strs)\n",
    "# Space complexity: O(m), while m = len(strs[0])"
   ]
  }
 ],
 "metadata": {
  "language_info": {
   "name": "python"
  }
 },
 "nbformat": 4,
 "nbformat_minor": 5
}
