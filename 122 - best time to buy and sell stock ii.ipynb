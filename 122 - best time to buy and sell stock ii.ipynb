{
 "cells": [
  {
   "cell_type": "code",
   "execution_count": null,
   "metadata": {},
   "outputs": [],
   "source": [
    "# 122 - Best time to buy and sell stock II\n",
    "\"\"\"\n",
    "    You are given an integer array prices where prices[i] is the price of a given stock on the ith day.\n",
    "\n",
    "    On each day, you may decide to buy and/or sell the stock. You can only hold at most one share of the stock at any time. \n",
    "    However, you can buy it then immediately sell it on the same day.\n",
    "\n",
    "    Find and return the maximum profit you can achieve.\n",
    "\"\"\""
   ]
  },
  {
   "cell_type": "code",
   "execution_count": null,
   "metadata": {},
   "outputs": [],
   "source": [
    "# My accepted solution I\n",
    "class Solution(object):\n",
    "    def maxProfit(self, prices):\n",
    "        \"\"\"\n",
    "        :type prices: List[int]\n",
    "        :rtype: int\n",
    "        \"\"\"\n",
    "        n = len(prices)\n",
    "        profit = []\n",
    "        total_profit = 0\n",
    "\n",
    "        for i in range(1, n):\n",
    "            profit.append(prices[i]-prices[i-1])\n",
    "\n",
    "        for element in profit:\n",
    "            if element > 0:\n",
    "                total_profit += element\n",
    "        \n",
    "        return total_profit\n",
    "    \n",
    "# Time Complexity: O(n)\n",
    "# Space Complexity: O(n)"
   ]
  },
  {
   "cell_type": "code",
   "execution_count": null,
   "metadata": {},
   "outputs": [],
   "source": [
    "# My accepted solution II\n",
    "class Solution(object):\n",
    "    def maxProfit(self, prices):\n",
    "        \"\"\"\n",
    "        :type prices: List[int]\n",
    "        :rtype: int\n",
    "        \"\"\"\n",
    "        n = len(prices)\n",
    "        total_profit = 0\n",
    "\n",
    "        for i in range(1, n):\n",
    "            if prices[i] > prices[i-1]:\n",
    "                total_profit += prices[i]-prices[i-1]\n",
    "        \n",
    "        return total_profit\n",
    "    \n",
    "# Time Complexity: O(n)\n",
    "# Space Complexity: O(1)"
   ]
  }
 ],
 "metadata": {
  "language_info": {
   "name": "python"
  }
 },
 "nbformat": 4,
 "nbformat_minor": 2
}
