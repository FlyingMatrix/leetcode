{
 "cells": [
  {
   "cell_type": "code",
   "execution_count": null,
   "metadata": {},
   "outputs": [],
   "source": [
    "# 55 - Jump Game\n",
    "\"\"\"\n",
    "    You are given an integer array nums. \n",
    "    You are initially positioned at the array's first index, and each element in the array represents your maximum jump length at that position.\n",
    "\n",
    "    Return true if you can reach the last index, or false otherwise.\n",
    "\"\"\""
   ]
  },
  {
   "cell_type": "code",
   "execution_count": null,
   "metadata": {},
   "outputs": [],
   "source": [
    "# My accepted solution\n",
    "class Solution(object):\n",
    "    def canJump(self, nums):\n",
    "        \"\"\"\n",
    "        :type nums: List[int]\n",
    "        :rtype: bool\n",
    "        \"\"\"\n",
    "        n = len(nums)\n",
    "        if n <= 1:\n",
    "            return True\n",
    "\n",
    "        last = n - 1\n",
    "        for i in range(len(nums)-2, -1, -1):\n",
    "            if i + nums[i] >= last:\n",
    "                last = i\n",
    "\n",
    "        return last == 0\n",
    "    \n",
    "# Time complexity: O(n)\n",
    "# Space complexity: O(1)"
   ]
  }
 ],
 "metadata": {
  "language_info": {
   "name": "python"
  }
 },
 "nbformat": 4,
 "nbformat_minor": 2
}
