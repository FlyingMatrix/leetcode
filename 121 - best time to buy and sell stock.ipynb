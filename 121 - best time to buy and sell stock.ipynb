{
 "cells": [
  {
   "cell_type": "code",
   "execution_count": null,
   "metadata": {},
   "outputs": [],
   "source": [
    "# 121 - Best time to buy and sell stock\n",
    "\"\"\"\n",
    "    You are given an array prices where prices[i] is the price of a given stock on the ith day.\n",
    "\n",
    "    You want to maximize your profit by choosing a single day to buy one stock and choosing a different day in the future to sell that stock.\n",
    "\n",
    "    Return the maximum profit you can achieve from this transaction. If you cannot achieve any profit, return 0.\n",
    "\"\"\""
   ]
  },
  {
   "cell_type": "code",
   "execution_count": null,
   "metadata": {},
   "outputs": [],
   "source": [
    "# My accepted solution\n",
    "class Solution(object):\n",
    "    def maxProfit(self, prices):\n",
    "        \"\"\"\n",
    "        :type prices: List[int]\n",
    "        :rtype: int\n",
    "        \"\"\"\n",
    "        n = len(prices)\n",
    "        max_profit = 0\n",
    "\n",
    "        if n < 2:\n",
    "            return 0\n",
    "        \n",
    "        l, r = 0, 1\n",
    "        while r < n:\n",
    "            if prices[r] >= prices[l]:\n",
    "                max_profit = max(max_profit, prices[r]-prices[l])\n",
    "            else:\n",
    "                l = r\n",
    "            r += 1\n",
    "            \n",
    "        return max_profit"
   ]
  },
  {
   "cell_type": "code",
   "execution_count": null,
   "metadata": {},
   "outputs": [],
   "source": [
    "# Time Complexity: O(n)\n",
    "# Space Complexity: O(1)"
   ]
  }
 ],
 "metadata": {
  "language_info": {
   "name": "python"
  }
 },
 "nbformat": 4,
 "nbformat_minor": 2
}
