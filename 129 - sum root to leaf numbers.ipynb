{
 "cells": [
  {
   "cell_type": "code",
   "execution_count": null,
   "id": "f797726c",
   "metadata": {},
   "outputs": [],
   "source": [
    "# 129 - Sum Root to Leaf Numbers\n",
    "\"\"\"\n",
    "    You are given the root of a binary tree containing digits from 0 to 9 only.\n",
    "\n",
    "    Each root-to-leaf path in the tree represents a number.\n",
    "    - For example, the root-to-leaf path 1 -> 2 -> 3 represents the number 123.\n",
    "\n",
    "    Return the total sum of all root-to-leaf numbers. \n",
    "    Test cases are generated so that the answer will fit in a 32-bit integer.\n",
    "    \n",
    "    A leaf node is a node with no children.\n",
    "\"\"\""
   ]
  },
  {
   "cell_type": "code",
   "execution_count": null,
   "id": "21757b8e",
   "metadata": {},
   "outputs": [],
   "source": [
    "# My accepted solution:\n",
    "#\n",
    "# Definition for a binary tree node.\n",
    "# class TreeNode(object):\n",
    "#     def __init__(self, val=0, left=None, right=None):\n",
    "#         self.val = val\n",
    "#         self.left = left\n",
    "#         self.right = right\n",
    "\n",
    "class Solution(object):\n",
    "\n",
    "    def sumNumbers(self, root):\n",
    "        \"\"\"\n",
    "        :type root: Optional[TreeNode]\n",
    "        :rtype: int\n",
    "        \"\"\"\n",
    "        def helper(node, curSum):\n",
    "            if node == None:\n",
    "                return 0\n",
    "            curSum = curSum * 10 + node.val # update curSum when node is not None\n",
    "            if not (node.left) and not (node.right): # node is leaf, return curSum\n",
    "                return curSum\n",
    "            else: # recursion\n",
    "                return helper(node.left, curSum) + helper(node.right, curSum)\n",
    "        \n",
    "        return helper(root, 0)\n",
    "     \n",
    "# Time complexity: O(n), n is the number of nodes in the binary tree\n",
    "# Space complexity: no extra data structures like lists, hash maps, or queues is used, only recursion\n",
    "#                   each recursive call adds a frame to the call stack, which corresponds to the height of the binary tree\n",
    "#                   so, space complexity = O(h)\n",
    "#                   - best case O(log(n)) for balanced binary tree\n",
    "#                   - worst case O(n) for skewed binary tree"
   ]
  }
 ],
 "metadata": {
  "language_info": {
   "name": "python"
  }
 },
 "nbformat": 4,
 "nbformat_minor": 5
}
