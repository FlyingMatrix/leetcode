{
 "cells": [
  {
   "cell_type": "code",
   "execution_count": null,
   "metadata": {},
   "outputs": [],
   "source": [
    "# 1029 - Two City Scheduling\n",
    "\"\"\" \n",
    "    A company is planning to interview 2n people. \n",
    "    Given the array costs where costs[i] = [aCosti, bCosti], the cost of flying the ith person to city a is aCosti, \n",
    "    and the cost of flying the ith person to city b is bCosti.\n",
    "\n",
    "    Return the minimum cost to fly every person to a city such that exactly n people arrive in each city.\n",
    "\"\"\""
   ]
  },
  {
   "cell_type": "code",
   "execution_count": 7,
   "metadata": {},
   "outputs": [],
   "source": [
    "# My accepted solution:\n",
    "class Solution:\n",
    "    def twoCitySchedCost(self, costs: List[List[int]]) -> int:\n",
    "\n",
    "        price_difference = []\n",
    "        n = len(costs)\n",
    "        m = n // 2\n",
    "\n",
    "        for i in range(n):\n",
    "            price_difference.append((i, costs[i][0] - costs[i][1])) \n",
    "        \n",
    "        sorted_price = sorted(price_difference, key=lambda item: item[1])\n",
    "        output = 0\n",
    "\n",
    "        for i in range(m):\n",
    "            output += costs[sorted_price[i][0]][0] + costs[sorted_price[i+m][0]][-1]\n",
    "\n",
    "        return output\n",
    "    \n",
    "# Time complexity: O(n+m), while n is the length of costs[]\n",
    "# Space complexity: O(n)"
   ]
  }
 ],
 "metadata": {
  "kernelspec": {
   "display_name": "pytorch",
   "language": "python",
   "name": "python3"
  },
  "language_info": {
   "codemirror_mode": {
    "name": "ipython",
    "version": 3
   },
   "file_extension": ".py",
   "mimetype": "text/x-python",
   "name": "python",
   "nbconvert_exporter": "python",
   "pygments_lexer": "ipython3",
   "version": "3.9.12"
  }
 },
 "nbformat": 4,
 "nbformat_minor": 2
}
