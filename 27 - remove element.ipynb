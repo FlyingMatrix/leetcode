{
 "cells": [
  {
   "cell_type": "code",
   "execution_count": null,
   "metadata": {},
   "outputs": [],
   "source": [
    "# 27 - Remove Element\n",
    "\"\"\"\n",
    "    Given an integer array nums and an integer val, remove all occurrences of val in nums in-place. \n",
    "    The order of the elements may be changed. Then return the number of elements in nums which are not equal to val.\n",
    "\n",
    "    Consider the number of elements in nums which are not equal to val be k, to get accepted, you need to do the following things:\n",
    "\n",
    "    Change the array nums such that the first k elements of nums contain the elements which are not equal to val. \n",
    "    The remaining elements of nums are not important as well as the size of nums.\n",
    "    Return k.\n",
    "\"\"\""
   ]
  },
  {
   "cell_type": "code",
   "execution_count": null,
   "metadata": {},
   "outputs": [],
   "source": [
    "# My accepted solution\n",
    "class Solution(object):\n",
    "    def removeElement(self, nums, val):\n",
    "        \"\"\"\n",
    "        :type nums: List[int]\n",
    "        :type val: int\n",
    "        :rtype: int\n",
    "        \"\"\"\n",
    "        new = []\n",
    "        for i in range(len(nums)):\n",
    "            if nums[i] != val:\n",
    "                new.append(nums[i])\n",
    "\n",
    "        for j in range(len(new)):\n",
    "            nums[j] = new[j]\n",
    "                \n",
    "        return len(new)"
   ]
  }
 ],
 "metadata": {
  "kernelspec": {
   "display_name": "Python 3",
   "language": "python",
   "name": "python3"
  },
  "language_info": {
   "codemirror_mode": {
    "name": "ipython",
    "version": 3
   },
   "file_extension": ".py",
   "mimetype": "text/x-python",
   "name": "python",
   "nbconvert_exporter": "python",
   "pygments_lexer": "ipython3",
   "version": "3.9.19"
  }
 },
 "nbformat": 4,
 "nbformat_minor": 2
}
