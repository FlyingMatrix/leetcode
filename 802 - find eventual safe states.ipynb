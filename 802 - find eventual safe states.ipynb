{
 "cells": [
  {
   "cell_type": "code",
   "execution_count": null,
   "metadata": {},
   "outputs": [],
   "source": [
    "# 802 - Find Eventual Safe States\n",
    "\"\"\" \n",
    "    There is a directed graph of n nodes with each node labeled from 0 to n - 1. \n",
    "    The graph is represented by a 0-indexed 2D integer array graph where graph[i] is an integer array of nodes adjacent to node i, \n",
    "    meaning there is an edge from node i to each node in graph[i].\n",
    "\n",
    "    A node is a terminal node if there are no outgoing edges. \n",
    "    A node is a safe node if every possible path starting from that node leads to a terminal node (or another safe node).\n",
    "\n",
    "    Return an array containing all the safe nodes of the graph. The answer should be sorted in ascending order.\n",
    "\"\"\""
   ]
  },
  {
   "cell_type": "code",
   "execution_count": null,
   "metadata": {},
   "outputs": [],
   "source": [
    "# My accepted solution (with Python 3)\n",
    "class Solution:\n",
    "    def eventualSafeNodes(self, graph: List[List[int]]) -> List[int]:\n",
    "        # Using hashmap -> {node index: True or False (if a node is a safe node or not)}\n",
    "        n = len(graph) # number of nodes\n",
    "        safe = {}\n",
    "        result = []\n",
    "\n",
    "        def dfs(i): \n",
    "        # return True or False, if node i is a safe node or not\n",
    "        # if all neighbors of node i are safe nodes, then node i is a safe node\n",
    "        # otherwise, node i is not a safe node\n",
    "            if i in safe:\n",
    "                return safe[i]\n",
    "            else:\n",
    "                safe[i] = False\n",
    "                for neighbor in graph[i]:\n",
    "                    if dfs(neighbor) == False:\n",
    "                        return safe[i]\n",
    "                safe[i] = True\n",
    "                return safe[i]\n",
    "\n",
    "        for i in range(n):\n",
    "            if dfs(i): \n",
    "                result.append(i)\n",
    "        \n",
    "        return result \n",
    "    \n",
    "# Time complexity: O(E+V) -> E: the number of edges, V: the number of vertices."
   ]
  }
 ],
 "metadata": {
  "kernelspec": {
   "display_name": "pytorch",
   "language": "python",
   "name": "python3"
  },
  "language_info": {
   "name": "python",
   "version": "3.9.12"
  }
 },
 "nbformat": 4,
 "nbformat_minor": 2
}
