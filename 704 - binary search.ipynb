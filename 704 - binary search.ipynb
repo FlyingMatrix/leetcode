{
 "cells": [
  {
   "cell_type": "code",
   "execution_count": null,
   "metadata": {},
   "outputs": [],
   "source": [
    "# 704 - Binary Search\n",
    "\"\"\" \n",
    "    Given an array of integers nums which is sorted in ascending order, and an integer target, \n",
    "    write a function to search target in nums. If target exists, then return its index. \n",
    "    Otherwise, return -1.\n",
    "\n",
    "    You must write an algorithm with O(log n) runtime complexity.\n",
    "\"\"\""
   ]
  },
  {
   "cell_type": "code",
   "execution_count": null,
   "metadata": {},
   "outputs": [],
   "source": [
    "# My accepted solution\n",
    "class Solution(object):\n",
    "    def search(self, nums, target):\n",
    "        \"\"\"\n",
    "        :type nums: List[int]\n",
    "        :type target: int\n",
    "        :rtype: int\n",
    "        \"\"\"\n",
    "        low = 0\n",
    "        high = len(nums)-1\n",
    "\n",
    "        while (low <= high):\n",
    "            cur = int((low + high) // 2)\n",
    "            if nums[cur] == target:\n",
    "                return cur\n",
    "            elif nums[cur] < target:\n",
    "                low = cur + 1\n",
    "            else:\n",
    "                high = cur - 1 \n",
    "\n",
    "        return -1\n",
    "    \n",
    "# Time complexity: O(log n)\n",
    "# Space complexity: O(1)"
   ]
  }
 ],
 "metadata": {
  "language_info": {
   "name": "python"
  }
 },
 "nbformat": 4,
 "nbformat_minor": 2
}
