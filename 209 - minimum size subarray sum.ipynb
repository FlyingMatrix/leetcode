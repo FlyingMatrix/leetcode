{
 "cells": [
  {
   "cell_type": "code",
   "execution_count": null,
   "metadata": {},
   "outputs": [],
   "source": [
    "# 209 - Minimum Size Subarray Sum\n",
    "\"\"\"\n",
    "    Given an array of positive integers nums and a positive integer target, return the minimal length of a subarray\n",
    "    whose sum is greater than or equal to target. If there is no such subarray, return 0 instead.\n",
    "\"\"\""
   ]
  },
  {
   "cell_type": "code",
   "execution_count": null,
   "metadata": {},
   "outputs": [],
   "source": [
    "# My accepted solution\n",
    "class Solution(object):\n",
    "    def minSubArrayLen(self, target, nums):\n",
    "        \"\"\"\n",
    "        :type target: int\n",
    "        :type nums: List[int]\n",
    "        :rtype: int\n",
    "        \"\"\"\n",
    "        n = len(nums)\n",
    "        l, r = 0, 0\n",
    "        total = 0\n",
    "        result = float(\"inf\")\n",
    "\n",
    "        for r in range(n):\n",
    "            total += nums[r]\n",
    "            while total >= target:\n",
    "                result = min(result, r-l+1)\n",
    "                total -= nums[l]\n",
    "                l += 1\n",
    "\n",
    "        return 0 if result == float(\"inf\") else result"
   ]
  },
  {
   "cell_type": "code",
   "execution_count": null,
   "metadata": {},
   "outputs": [],
   "source": [
    "# Time complexity: O(n)\n",
    "# Space complexity: O(1)"
   ]
  }
 ],
 "metadata": {
  "language_info": {
   "name": "python"
  }
 },
 "nbformat": 4,
 "nbformat_minor": 2
}
