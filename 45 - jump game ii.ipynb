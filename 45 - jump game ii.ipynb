{
 "cells": [
  {
   "cell_type": "code",
   "execution_count": null,
   "metadata": {},
   "outputs": [],
   "source": [
    "# 45 - Jump Game II\n",
    "\"\"\"\n",
    "    You are given a 0-indexed array of integers nums of length n. You are initially positioned at nums[0].\n",
    "\n",
    "    Each element nums[i] represents the maximum length of a forward jump from index i. \n",
    "    In other words, if you are at nums[i], you can jump to any nums[i + j] where:\n",
    "\n",
    "        0 <= j <= nums[i] and i + j < n\n",
    "        \n",
    "    Return the minimum number of jumps to reach nums[n - 1]. The test cases are generated such that you can reach nums[n - 1].\n",
    "\"\"\""
   ]
  },
  {
   "cell_type": "code",
   "execution_count": null,
   "metadata": {},
   "outputs": [],
   "source": [
    "# Accepted solution based on Greedy Algorithm\n",
    "class Solution(object):\n",
    "    def jump(self, nums):\n",
    "        \"\"\"\n",
    "        :type nums: List[int]\n",
    "        :rtype: int\n",
    "        \"\"\"\n",
    "        n = len(nums)\n",
    "        if n < 2:\n",
    "            return 0\n",
    "\n",
    "        max_reach, step, end = 0, 0, 0\n",
    "        # using end to mark the index of the max_reach element\n",
    "\n",
    "        for i in range(n - 1):\n",
    "            max_reach = max(max_reach, i + nums[i])\n",
    "\n",
    "            if max_reach >= n-1:\n",
    "                step += 1\n",
    "                break\n",
    "        \n",
    "            if i == end:\n",
    "                end = max_reach\n",
    "                step += 1\n",
    "\n",
    "        return step"
   ]
  },
  {
   "cell_type": "code",
   "execution_count": null,
   "metadata": {},
   "outputs": [],
   "source": [
    "# Another solution from NeetCode - Better to understand\n",
    "class Solution(object):\n",
    "    def jump(self, nums):\n",
    "        \"\"\"\n",
    "        :type nums: List[int]\n",
    "        :rtype: int\n",
    "        \"\"\"\n",
    "        l, r = 0, 0\n",
    "        step = 0\n",
    "        largest = 0\n",
    "\n",
    "        while r < len(nums)-1:\n",
    "            for i in range(l, r+1):\n",
    "                largest = max(largest, i+nums[i])\n",
    "            l, r = r+1, largest\n",
    "            step += 1\n",
    "\n",
    "        return step"
   ]
  }
 ],
 "metadata": {
  "language_info": {
   "name": "python"
  }
 },
 "nbformat": 4,
 "nbformat_minor": 2
}
