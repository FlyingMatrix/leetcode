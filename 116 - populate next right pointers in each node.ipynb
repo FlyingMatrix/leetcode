{
 "cells": [
  {
   "cell_type": "code",
   "execution_count": null,
   "metadata": {},
   "outputs": [],
   "source": [
    "# 116 - Populating Next Right Pointers in Each Node\n",
    "\"\"\" \n",
    "    You are given a perfect binary tree where all leaves are on the same level, and every parent has two children. \n",
    "    The binary tree has the following definition:\n",
    "\n",
    "    struct Node {\n",
    "    int val;\n",
    "    Node *left;\n",
    "    Node *right;\n",
    "    Node *next;\n",
    "    }\n",
    "    \n",
    "    Populate each next pointer to point to its next right node. If there is no next right node, the next pointer should be set to NULL.\n",
    "\n",
    "    Initially, all next pointers are set to NULL.\n",
    "\"\"\""
   ]
  },
  {
   "cell_type": "code",
   "execution_count": null,
   "metadata": {},
   "outputs": [],
   "source": [
    "# My accepted solutions\n",
    "\"\"\"\n",
    "# Definition for a Node.\n",
    "class Node:\n",
    "    def __init__(self, val: int = 0, left: 'Node' = None, right: 'Node' = None, next: 'Node' = None):\n",
    "        self.val = val\n",
    "        self.left = left\n",
    "        self.right = right\n",
    "        self.next = next\n",
    "\"\"\"\n",
    "\n",
    "class Solution:\n",
    "    def connect(self, root: 'Optional[Node]') -> 'Optional[Node]':\n",
    "        \n",
    "        cur, nxt = root, root.left if root else None\n",
    "\n",
    "        while cur and nxt:\n",
    "            cur.left.next = cur.right\n",
    "            if cur.next:\n",
    "                cur.right.next = cur.next.left\n",
    "\n",
    "            cur = cur.next # iteration in the same level\n",
    "            if not cur: # if cur is NULL, which means this level has come to the end\n",
    "                cur = nxt\n",
    "                nxt = cur.left\n",
    "\n",
    "        return root\n",
    "    \n",
    "# Time Complexity: O(n), while n is the number of nodes.\n",
    "# Space Complexity: O(1)."
   ]
  }
 ],
 "metadata": {
  "language_info": {
   "name": "python"
  }
 },
 "nbformat": 4,
 "nbformat_minor": 2
}
