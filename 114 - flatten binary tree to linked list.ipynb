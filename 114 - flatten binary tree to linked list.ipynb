{
 "cells": [
  {
   "cell_type": "code",
   "execution_count": null,
   "id": "990ca08e",
   "metadata": {},
   "outputs": [],
   "source": [
    "# 114. Flatten Binary Tree to Linked List\n",
    "\"\"\"\n",
    "    Given the root of a binary tree, flatten the tree into a \"linked list\":\n",
    "\n",
    "    - The \"linked list\" should use the same TreeNode class where the right child pointer points to the next node in the list \n",
    "      and the left child pointer is always null.\n",
    "    - The \"linked list\" should be in the same order as a pre-order traversal of the binary tree.\n",
    "\"\"\""
   ]
  },
  {
   "cell_type": "code",
   "execution_count": null,
   "id": "76b0dba0",
   "metadata": {},
   "outputs": [],
   "source": [
    "# My accepted solution:\n",
    "#\n",
    "# Definition for a binary tree node.\n",
    "# class TreeNode(object):\n",
    "#     def __init__(self, val=0, left=None, right=None):\n",
    "#         self.val = val\n",
    "#         self.left = left\n",
    "#         self.right = right\n",
    "\n",
    "class Solution(object):\n",
    "    def flatten(self, root):\n",
    "        \"\"\"\n",
    "        :type root: Optional[TreeNode]\n",
    "        :rtype: None Do not return anything, modify root in-place instead.\n",
    "        \"\"\"\n",
    "\n",
    "        if root == None:\n",
    "            return root\n",
    "        if root.left == None and root.right == None:\n",
    "            return root\n",
    "        stack = [root]\n",
    "        while stack:\n",
    "            cur = stack.pop()\n",
    "            if cur.right:\n",
    "                stack.append(cur.right)\n",
    "            if cur.left:\n",
    "                stack.append(cur.left)\n",
    "            if stack:\n",
    "                cur.right = stack[-1]\n",
    "            cur.left = None\n",
    "        return\n",
    "\n",
    "# Time complexity: each node is pushed into the stack, popped out and updated its pointers (left, right)\n",
    "#                  so time complexity = O(n), while n is the number of nodes in the binary tree\n",
    "# Space complexity: the maximum size of the stack corresponds to the height of the binary tree, so space complexity = O(h)\n",
    "#                   - best case: O(log(n)) for balanced binary tree\n",
    "#                   - worst case: O(n) for skewed binary tree"
   ]
  }
 ],
 "metadata": {
  "language_info": {
   "name": "python"
  }
 },
 "nbformat": 4,
 "nbformat_minor": 5
}
