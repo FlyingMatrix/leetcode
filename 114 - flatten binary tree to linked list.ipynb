{
 "cells": [
  {
   "cell_type": "code",
   "execution_count": null,
   "id": "990ca08e",
   "metadata": {},
   "outputs": [],
   "source": [
    "# 114. Flatten Binary Tree to Linked List\n",
    "\"\"\"\n",
    "    Given the root of a binary tree, flatten the tree into a \"linked list\":\n",
    "\n",
    "    - The \"linked list\" should use the same TreeNode class where the right child pointer points to the next node in the list \n",
    "      and the left child pointer is always null.\n",
    "    - The \"linked list\" should be in the same order as a pre-order traversal of the binary tree.\n",
    "\"\"\""
   ]
  },
  {
   "cell_type": "code",
   "execution_count": null,
   "id": "76b0dba0",
   "metadata": {},
   "outputs": [],
   "source": [
    "# My accepted solution:\n",
    "#\n",
    "# Definition for a binary tree node.\n",
    "# class TreeNode(object):\n",
    "#     def __init__(self, val=0, left=None, right=None):\n",
    "#         self.val = val\n",
    "#         self.left = left\n",
    "#         self.right = right\n",
    "\n",
    "class Solution(object):\n",
    "    def flatten(self, root):\n",
    "        \"\"\"\n",
    "        :type root: Optional[TreeNode]\n",
    "        :rtype: None Do not return anything, modify root in-place instead.\n",
    "        \"\"\"\n",
    "\n",
    "# Time complexity:\n",
    "# Space complexity:   "
   ]
  }
 ],
 "metadata": {
  "language_info": {
   "name": "python"
  }
 },
 "nbformat": 4,
 "nbformat_minor": 5
}
