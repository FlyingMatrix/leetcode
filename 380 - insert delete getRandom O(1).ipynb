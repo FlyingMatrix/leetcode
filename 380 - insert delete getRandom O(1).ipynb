{
 "cells": [
  {
   "cell_type": "code",
   "execution_count": null,
   "id": "ce3ac7b9",
   "metadata": {},
   "outputs": [],
   "source": [
    "# 380. Insert Delete GetRandom O(1)\n",
    "\"\"\"\n",
    "    Implement the RandomizedSet class:\n",
    "\n",
    "    - RandomizedSet() Initializes the RandomizedSet object.\n",
    "    - bool insert(int val) Inserts an item val into the set if not present. Returns true if the item was not present, false otherwise.\n",
    "    - bool remove(int val) Removes an item val from the set if present. Returns true if the item was present, false otherwise.\n",
    "    - int getRandom() Returns a random element from the current set of elements \n",
    "      (it's guaranteed that at least one element exists when this method is called). \n",
    "      Each element must have the same probability of being returned.\n",
    "\n",
    "    You must implement the functions of the class such that each function works in average O(1) time complexity.\n",
    "\n",
    "    Example 1:\n",
    "\n",
    "    Input\n",
    "    [\"RandomizedSet\", \"insert\", \"remove\", \"insert\", \"getRandom\", \"remove\", \"insert\", \"getRandom\"]\n",
    "    [[], [1], [2], [2], [], [1], [2], []]\n",
    "    Output\n",
    "    [null, true, false, true, 2, true, false, 2]\n",
    "\n",
    "    Explanation\n",
    "    RandomizedSet randomizedSet = new RandomizedSet();\n",
    "    randomizedSet.insert(1); // Inserts 1 to the set. Returns true as 1 was inserted successfully.\n",
    "    randomizedSet.remove(2); // Returns false as 2 does not exist in the set.\n",
    "    randomizedSet.insert(2); // Inserts 2 to the set, returns true. Set now contains [1,2].\n",
    "    randomizedSet.getRandom(); // getRandom() should return either 1 or 2 randomly.\n",
    "    randomizedSet.remove(1); // Removes 1 from the set, returns true. Set now contains [2].\n",
    "    randomizedSet.insert(2); // 2 was already in the set, so return false.\n",
    "    randomizedSet.getRandom(); // Since 2 is the only number in the set, getRandom() will always return 2.\n",
    "\"\"\""
   ]
  },
  {
   "cell_type": "code",
   "execution_count": 1,
   "id": "49e4f65c",
   "metadata": {},
   "outputs": [],
   "source": [
    "# My accepted solution:\n",
    "#\n",
    "class RandomizedSet(object):\n",
    "\n",
    "    def __init__(self):\n",
    "        super(RandomizedSet, self).__init__()\n",
    "        self.set = set()\n",
    "\n",
    "    def insert(self, val):\n",
    "        \"\"\"\n",
    "        :type val: int\n",
    "        :rtype: bool\n",
    "        \"\"\"\n",
    "        if val not in self.set:\n",
    "            self.set.add(val)\n",
    "            return True\n",
    "        else:\n",
    "            return False\n",
    "\n",
    "    def remove(self, val):\n",
    "        \"\"\"\n",
    "        :type val: int\n",
    "        :rtype: bool\n",
    "        \"\"\"\n",
    "        if val in self.set:\n",
    "            self.set.remove(val)\n",
    "            return True\n",
    "        else:\n",
    "            return False\n",
    "\n",
    "    def getRandom(self): # each element must have the same probability of being returned\n",
    "        \"\"\"\n",
    "        :rtype: int\n",
    "        \"\"\"\n",
    "        import random\n",
    "        if self.set:\n",
    "            return random.choice(list(self.set)) # random.choice() pick up element uniformly\n",
    "        \n",
    "# Your RandomizedSet object will be instantiated and called as such:\n",
    "# obj = RandomizedSet()\n",
    "# param_1 = obj.insert(val)\n",
    "# param_2 = obj.remove(val)\n",
    "# param_3 = obj.getRandom()"
   ]
  },
  {
   "cell_type": "code",
   "execution_count": 2,
   "id": "8927c7e8",
   "metadata": {},
   "outputs": [
    {
     "name": "stdout",
     "output_type": "stream",
     "text": [
      "[<__main__.RandomizedSet object at 0x00000158BAB8F850>, True, False, True, 1, True, False, 2]\n"
     ]
    }
   ],
   "source": [
    "# Verification\n",
    "object = RandomizedSet()\n",
    "results = [RandomizedSet(), \n",
    "           object.insert(1),\n",
    "           object.remove(2),\n",
    "           object.insert(2),\n",
    "           object.getRandom(),\n",
    "           object.remove(1),\n",
    "           object.insert(2),\n",
    "           object.getRandom()]\n",
    "print(results)"
   ]
  }
 ],
 "metadata": {
  "kernelspec": {
   "display_name": "pytorch",
   "language": "python",
   "name": "python3"
  },
  "language_info": {
   "codemirror_mode": {
    "name": "ipython",
    "version": 3
   },
   "file_extension": ".py",
   "mimetype": "text/x-python",
   "name": "python",
   "nbconvert_exporter": "python",
   "pygments_lexer": "ipython3",
   "version": "3.9.20"
  }
 },
 "nbformat": 4,
 "nbformat_minor": 5
}
