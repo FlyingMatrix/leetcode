{
 "cells": [
  {
   "cell_type": "code",
   "execution_count": null,
   "metadata": {},
   "outputs": [],
   "source": [
    "# 15 - 3Sum\n",
    "\"\"\"\n",
    "    Given an integer array nums, return all the triplets [nums[i], nums[j], nums[k]] \n",
    "    such that i != j, i != k, and j != k, and nums[i] + nums[j] + nums[k] == 0.\n",
    "\n",
    "    Notice that the solution set must not contain duplicate triplets.\n",
    "\"\"\""
   ]
  },
  {
   "cell_type": "code",
   "execution_count": null,
   "metadata": {},
   "outputs": [],
   "source": [
    "# My accepted solution\n",
    "class Solution(object):\n",
    "    def threeSum(self, nums):\n",
    "        \"\"\"\n",
    "        :type nums: List[int]\n",
    "        :rtype: List[List[int]]\n",
    "        \"\"\"\n",
    "        result = []\n",
    "        nums.sort()\n",
    "        \n",
    "        for i in range(len(nums)):\n",
    "            if i > 0 and nums[i] == nums[i-1]:\n",
    "                continue\n",
    "                \n",
    "            l, r = i+1, len(nums)-1\n",
    "            while l < r:\n",
    "                if nums[i] + nums[l] + nums[r] < 0:\n",
    "                    l += 1\n",
    "                elif nums[i] + nums[l] + nums[r] > 0:\n",
    "                    r -= 1\n",
    "                else:\n",
    "                    result.append([nums[i], nums[l], nums[r]])\n",
    "                    l += 1\n",
    "                    while nums[l] == nums[l-1] and l < r:\n",
    "                        l += 1\n",
    "\n",
    "        return result"
   ]
  }
 ],
 "metadata": {
  "language_info": {
   "name": "python"
  }
 },
 "nbformat": 4,
 "nbformat_minor": 2
}
