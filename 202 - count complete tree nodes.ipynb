{
 "cells": [
  {
   "cell_type": "code",
   "execution_count": null,
   "id": "3849e2e7",
   "metadata": {},
   "outputs": [],
   "source": [
    "# 202 - Count Complete Tree Nodes\n",
    "\"\"\"\n",
    "    Given the root of a complete binary tree, return the number of the nodes in the tree.\n",
    "\n",
    "    According to Wikipedia, every level, except possibly the last, is completely filled in a complete binary tree, \n",
    "    and all nodes in the last level are as far left as possible. It can have between 1 and 2^h nodes inclusive at the last level h.\n",
    "\n",
    "    Design an algorithm that runs in less than O(n) time complexity.\n",
    "\"\"\""
   ]
  },
  {
   "cell_type": "code",
   "execution_count": null,
   "id": "5a25130c",
   "metadata": {},
   "outputs": [],
   "source": [
    "# My accepted solution:\n",
    "#\n",
    "# Definition for a binary tree node.\n",
    "# class TreeNode(object):\n",
    "#     def __init__(self, val=0, left=None, right=None):\n",
    "#         self.val = val\n",
    "#         self.left = left\n",
    "#         self.right = right\n",
    "\n",
    "class Solution(object):\n",
    "    def countNodes(self, root):\n",
    "        \"\"\"\n",
    "        :type root: Optional[TreeNode]\n",
    "        :rtype: int\n",
    "        \"\"\"\n",
    "        if root == None:\n",
    "            return 0\n",
    "        elif root.left == None:\n",
    "            return 1\n",
    "        elif root.right == None:\n",
    "            return 1 + self.countNodes(root.left)\n",
    "        else:\n",
    "            return 1 + self.countNodes(root.left) + self.countNodes(root.right)\n",
    "        \n",
    "# Time complexity: In the worst case, this function recursively visits every node once, so time complexity = O(n),\n",
    "#                  while n is the number of nodes in the binary tree.\n",
    "# Space complexity: the space complexity corresponds to the height of the binary tree, so space complexity = O(h),\n",
    "#                   - best case: O(log(n)), for balanced binary tree\n",
    "#                   - worst case: O(n), for skewed binary tree"
   ]
  }
 ],
 "metadata": {
  "language_info": {
   "name": "python"
  }
 },
 "nbformat": 4,
 "nbformat_minor": 5
}
