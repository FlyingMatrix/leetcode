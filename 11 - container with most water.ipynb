{
 "cells": [
  {
   "cell_type": "code",
   "execution_count": null,
   "metadata": {},
   "outputs": [],
   "source": [
    "# 11 - Container with most Water\n",
    "\"\"\" \n",
    "    You are given an integer array height of length n. \n",
    "    There are n vertical lines drawn such that the two endpoints of the ith line are (i, 0) and (i, height[i]).\n",
    "\n",
    "    Find two lines that together with the x-axis form a container, such that the container contains the most water.\n",
    "\n",
    "    Return the maximum amount of water a container can store.\n",
    "\n",
    "    Notice that you may not slant the container.\n",
    "\"\"\""
   ]
  },
  {
   "cell_type": "code",
   "execution_count": null,
   "metadata": {},
   "outputs": [],
   "source": [
    "# My accepted solution\n",
    "class Solution(object):\n",
    "    def maxArea(self, height):\n",
    "        \"\"\"\n",
    "        :type height: List[int]\n",
    "        :rtype: int\n",
    "        \"\"\"\n",
    "        result = 0\n",
    "        max_result = 0\n",
    "        l, r = 0, len(height)-1\n",
    "\n",
    "        while l < r:\n",
    "            result = (r-l) * min(height[l], height[r])\n",
    "            if result > max_result:\n",
    "                max_result = result\n",
    "            \n",
    "            if height[l] < height[r]:\n",
    "                cur_idx = l\n",
    "                l += 1\n",
    "                while height[l] <= height[cur_idx] and l < r:\n",
    "                    l += 1\n",
    "            else:\n",
    "                cur_idx = r\n",
    "                r -= 1\n",
    "                while height[r] <= height[cur_idx] and l < r:\n",
    "                    r -= 1               \n",
    "\n",
    "        return max_result "
   ]
  }
 ],
 "metadata": {
  "language_info": {
   "name": "python"
  }
 },
 "nbformat": 4,
 "nbformat_minor": 2
}
