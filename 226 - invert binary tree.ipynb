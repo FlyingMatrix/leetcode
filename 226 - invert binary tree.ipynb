{
 "cells": [
  {
   "cell_type": "code",
   "execution_count": null,
   "id": "f6ee065d",
   "metadata": {},
   "outputs": [],
   "source": [
    "# 226 - Invert Binary Tree\n",
    "\"\"\"\n",
    "    Given the root of a binary tree, invert the tree, and return its root.\n",
    "\"\"\""
   ]
  },
  {
   "cell_type": "code",
   "execution_count": null,
   "id": "81333de4",
   "metadata": {},
   "outputs": [],
   "source": [
    "# My accepted solution I:\n",
    "#\n",
    "# Definition for a binary tree node.\n",
    "# class TreeNode(object):\n",
    "#     def __init__(self, val=0, left=None, right=None):\n",
    "#         self.val = val\n",
    "#         self.left = left\n",
    "#         self.right = right\n",
    "\n",
    "class Solution(object):\n",
    "    def invertTree(self, root):\n",
    "        \"\"\"\n",
    "        :type root: Optional[TreeNode]\n",
    "        :rtype: Optional[TreeNode]\n",
    "        \"\"\"\n",
    "        if root == None:\n",
    "            return root\n",
    "        else:\n",
    "            temp = root.left\n",
    "            root.left = self.invertTree(root.right)\n",
    "            root.right = self.invertTree(temp)\n",
    "            return root\n",
    "\n",
    "# Time complexity: O(n), while n is the number of nodes in the binary tree\n",
    "# Space complexity: the space complexity corresponds to the height of the binary tree\n",
    "#                   - Best case: O(log(n)), for a Balanced Binary Tree\n",
    "#                   - Worst case: O(n), for a Skewed Binary Tree"
   ]
  },
  {
   "cell_type": "code",
   "execution_count": null,
   "id": "db5fb84f",
   "metadata": {},
   "outputs": [],
   "source": [
    "# My accepted solution II:\n",
    "#\n",
    "# Definition for a binary tree node.\n",
    "# class TreeNode(object):\n",
    "#     def __init__(self, val=0, left=None, right=None):\n",
    "#         self.val = val\n",
    "#         self.left = left\n",
    "#         self.right = right\n",
    "\n",
    "class Solution(object):\n",
    "    def invertTree(self, root):\n",
    "        \"\"\"\n",
    "        :type root: Optional[TreeNode]\n",
    "        :rtype: Optional[TreeNode]\n",
    "        \"\"\"\n",
    "        if root == None:\n",
    "            return root\n",
    "        else:\n",
    "            root.left, root.right = root.right, root.left\n",
    "            self.invertTree(root.left)\n",
    "            self.invertTree(root.right)\n",
    "            return root\n",
    "        \n",
    "# Time complexity: O(n), while n is the number of nodes in the binary tree\n",
    "# Space complexity: the space complexity corresponds to the height of the binary tree\n",
    "#                   - Best case: O(log(n)), for a Balanced Binary Tree\n",
    "#                   - Worst case: O(n), for a Skewed Binary Tree"
   ]
  }
 ],
 "metadata": {
  "language_info": {
   "name": "python"
  }
 },
 "nbformat": 4,
 "nbformat_minor": 5
}
