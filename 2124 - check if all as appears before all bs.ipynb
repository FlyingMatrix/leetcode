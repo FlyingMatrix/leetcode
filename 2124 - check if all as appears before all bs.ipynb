{
 "cells": [
  {
   "cell_type": "code",
   "execution_count": null,
   "metadata": {},
   "outputs": [],
   "source": [
    "# 2124 - Check if all a's appears before all b's\n",
    "\"\"\"\n",
    "    Given a string s consisting of only the characters 'a' and 'b', return true if every 'a' appears before every 'b' in the string. Otherwise, return false.\n",
    "\"\"\""
   ]
  },
  {
   "cell_type": "code",
   "execution_count": null,
   "metadata": {},
   "outputs": [],
   "source": [
    "# My accepted solution\n",
    "class Solution(object):\n",
    "    def checkString(self, s):\n",
    "        \"\"\"\n",
    "        :type s: str\n",
    "        :rtype: bool\n",
    "        \"\"\"\n",
    "        result = True\n",
    "        b_existed = False\n",
    "        n = len(s)\n",
    "\n",
    "        for i in range (n):\n",
    "            if s[i] == 'b':\n",
    "                b_existed = True\n",
    "            if b_existed and s[i] == 'a':\n",
    "                result = False\n",
    "        \n",
    "        return result"
   ]
  }
 ],
 "metadata": {
  "language_info": {
   "name": "python"
  }
 },
 "nbformat": 4,
 "nbformat_minor": 2
}
