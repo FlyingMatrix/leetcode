{
 "cells": [
  {
   "cell_type": "code",
   "execution_count": null,
   "id": "43b522b6",
   "metadata": {},
   "outputs": [],
   "source": [
    "# 169 - Majority Element\n",
    "\"\"\"\n",
    "    Given an array nums of size n, return the majority element.\n",
    "    The majority element is the element that appears more than ⌊n / 2⌋ times. \n",
    "    You may assume that the majority element always exists in the array.\n",
    "\n",
    "    Example 1:\n",
    "        Input: nums = [3,2,3]\n",
    "        Output: 3\n",
    "\n",
    "    Example 2:\n",
    "        Input: nums = [2,2,1,1,1,2,2]\n",
    "        Output: 2\n",
    "\"\"\""
   ]
  },
  {
   "cell_type": "code",
   "execution_count": null,
   "id": "31621837",
   "metadata": {},
   "outputs": [],
   "source": [
    "# My accepted solution:\n",
    "#\n",
    "class Solution(object):\n",
    "    def majorityElement(self, nums):\n",
    "        \"\"\"\n",
    "        :type nums: List[int]\n",
    "        :rtype: int\n",
    "        \"\"\"\n",
    "        unique_element = list(set(nums)) # find all unique elements from nums\n",
    "        for i in range(len(unique_element)):\n",
    "            indices = [j for j, x in enumerate(nums) if x == unique_element[i]]\n",
    "            if len(indices) > len(nums) / 2:\n",
    "                return unique_element[i]\n",
    "            else:\n",
    "                continue\n",
    "\n",
    "# Time complexity: O(n^2), while n = len(nums)\n",
    "# Space complexity: O(n)"
   ]
  },
  {
   "cell_type": "code",
   "execution_count": null,
   "id": "c2a153df",
   "metadata": {},
   "outputs": [],
   "source": [
    "# Other solution I: Using a Hash Map (Counter)\n",
    "#\n",
    "class Solution(object):\n",
    "    def majorityElement(self, nums):\n",
    "        \"\"\"\n",
    "        :type nums: List[int]\n",
    "        :rtype: int\n",
    "        \"\"\"\n",
    "        from collections import Counter\n",
    "        counts = Counter(nums) # counts = {nums[i]: amount}\n",
    "        return max(counts.keys(), key=counts.get) # return the key with largest value\n",
    "    \n",
    "# Time complexity: Counter() - O(n), max() - O(k) while k is the amount of unique numbers, so time complexity = O(n)\n",
    "# Space complexity: Counter() - O(k), max() - O(1), so space complexity = O(k)"
   ]
  },
  {
   "cell_type": "code",
   "execution_count": null,
   "id": "be28c9be",
   "metadata": {},
   "outputs": [],
   "source": [
    "# Optimal solution - The Boyer–Moore algorithm works by canceling out pairs of different elements:\n",
    "# The Boyer–Moore algorithm guarantees the correct result only if a majority element exists, meaning an element appears more than n/2 times.\n",
    "#\n",
    "class Solution(object):\n",
    "    def majorityElement(self, nums):\n",
    "        \"\"\"\n",
    "        :type nums: List[int]\n",
    "        :rtype: int\n",
    "        \"\"\"\n",
    "        count = 0\n",
    "        candidate = None\n",
    "        for num in nums:\n",
    "            if count == 0:\n",
    "                candidate = num\n",
    "            count += 1 if candidate == num else -1\n",
    "        \n",
    "        return candidate\n",
    "\n",
    "# Time complexity: O(n)\n",
    "# Space complexity: O(1)"
   ]
  }
 ],
 "metadata": {
  "language_info": {
   "name": "python"
  }
 },
 "nbformat": 4,
 "nbformat_minor": 5
}
