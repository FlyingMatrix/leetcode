{
 "cells": [
  {
   "cell_type": "code",
   "execution_count": null,
   "metadata": {},
   "outputs": [],
   "source": [
    "# 1094 - Car Pooling\n",
    "\"\"\" \n",
    "    There is a car with capacity empty seats. \n",
    "    The vehicle only drives east (i.e., it cannot turn around and drive west).\n",
    "\n",
    "    You are given the integer capacity and an array trips where trips[i] = [numPassengersi, fromi, toi] indicates that \n",
    "    ...the ith trip has numPassengersi passengers and the locations to pick them up and drop them off are fromi and toi respectively. \n",
    "    The locations are given as the number of kilometers due east from the car's initial location.\n",
    "\n",
    "    Return true if it is possible to pick up and drop off all passengers for all the given trips, or false otherwise.\n",
    "\"\"\""
   ]
  },
  {
   "cell_type": "code",
   "execution_count": null,
   "metadata": {},
   "outputs": [],
   "source": [
    "# My accepted solution:\n",
    "class Solution(object):\n",
    "    def carPooling(self, trips, capacity):\n",
    "        \"\"\"\n",
    "        :type trips: List[List[int]]\n",
    "        :type capacity: int\n",
    "        :rtype: bool\n",
    "        \"\"\"\n",
    "        travel = {}\n",
    "        for trip in trips:\n",
    "            i, j = trip[1], trip[2]\n",
    "            if i in travel:\n",
    "                travel[i] += trip[0]\n",
    "            else:\n",
    "                travel[i] = trip[0]\n",
    "\n",
    "            if j in travel:\n",
    "                travel[j] -= trip[0]\n",
    "            else:\n",
    "                travel[j] = -trip[0]\n",
    "        passenger_change = sorted(travel.items())\n",
    "\n",
    "        passenger_num = 0\n",
    "        for i in range(len(passenger_change)):\n",
    "            passenger_num += passenger_change[i][-1]\n",
    "            if passenger_num > capacity:\n",
    "                return False\n",
    "        return True    \n",
    "    \n",
    "    # Time complexity: O(N*LogN)\n",
    "    # Space complexity: O(N), while N is the amount of items in trips[]"
   ]
  }
 ],
 "metadata": {
  "kernelspec": {
   "display_name": "base",
   "language": "python",
   "name": "python3"
  },
  "language_info": {
   "codemirror_mode": {
    "name": "ipython",
    "version": 3
   },
   "file_extension": ".py",
   "mimetype": "text/x-python",
   "name": "python",
   "nbconvert_exporter": "python",
   "pygments_lexer": "ipython3",
   "version": "3.9.12"
  }
 },
 "nbformat": 4,
 "nbformat_minor": 2
}
