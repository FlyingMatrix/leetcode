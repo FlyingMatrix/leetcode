{
 "cells": [
  {
   "cell_type": "code",
   "execution_count": null,
   "metadata": {},
   "outputs": [],
   "source": [
    "# 1260 - Shift 2D Grid\n",
    "\"\"\" \n",
    "    Given a 2D grid of size m x n and an integer k. You need to shift the grid k times.\n",
    "\n",
    "    In one shift operation:\n",
    "\n",
    "    Element at grid[i][j] moves to grid[i][j + 1].\n",
    "    Element at grid[i][n - 1] moves to grid[i + 1][0].\n",
    "    Element at grid[m - 1][n - 1] moves to grid[0][0].\n",
    "    \n",
    "    Return the 2D grid after applying shift operation k times.\n",
    "\"\"\""
   ]
  },
  {
   "cell_type": "code",
   "execution_count": null,
   "metadata": {},
   "outputs": [],
   "source": [
    "# My Accepted Solution\n",
    "class Solution(object):\n",
    "    def shiftGrid(self, grid, k):\n",
    "        \"\"\"\n",
    "        :type grid: List[List[int]]\n",
    "        :type k: int\n",
    "        :rtype: List[List[int]]\n",
    "        \"\"\"\n",
    "\n",
    "        ROWS = len(grid)\n",
    "        COLS = len(grid[0])\n",
    "        count = k\n",
    "\n",
    "        while (count > 0):\n",
    "            for row in range(ROWS):\n",
    "                temp = grid[row][COLS-1]\n",
    "                for col in range(COLS-1, 0, -1):\n",
    "                    grid[row][col] = grid[row][col-1]\n",
    "                grid[row][0] = temp\n",
    "            \n",
    "            temp = grid[ROWS-1][0]\n",
    "            for row in range(ROWS-1, 0, -1):\n",
    "                grid[row][0] = grid[row-1][0]\n",
    "            grid[0][0] = temp\n",
    "\n",
    "            count -= 1\n",
    "\n",
    "        return grid\n",
    "    \n",
    "# Time complexity: O(m*n) -> visiting each of the cell\n",
    "# Space (Memory) complexity: O(1) "
   ]
  },
  {
   "cell_type": "code",
   "execution_count": null,
   "metadata": {},
   "outputs": [],
   "source": [
    "# Method II by NeetCode: 2D Array -> 1D Array\n",
    "class Solution(object):\n",
    "    def shiftGrid(self, grid, k):\n",
    "        \"\"\"\n",
    "        :type grid: List[List[int]]\n",
    "        :type k: int\n",
    "        :rtype: List[List[int]]\n",
    "        \"\"\"\n",
    "\n",
    "        ROWS = len(grid)\n",
    "        COLS = len(grid[0])\n",
    "        result = [[0] * COLS for i in range(ROWS)]\n",
    "\n",
    "        def pos2Var(r, c):\n",
    "            return r * COLS + c\n",
    "        \n",
    "        def var2Pos(pos):\n",
    "            return [pos // COLS, pos % COLS]\n",
    "\n",
    "        for i in range(ROWS):\n",
    "            for j in range(COLS):\n",
    "                new_r, new_c = var2Pos((pos2Var(i, j) + k) % (ROWS * COLS))\n",
    "                result[new_r][new_c] = grid[i][j]\n",
    "\n",
    "        return result\n",
    "    \n",
    "# Time complexity: O(m*n) -> visiting each of the cell\n",
    "# Space (Memory) complexity: O(m*n) "
   ]
  }
 ],
 "metadata": {
  "kernelspec": {
   "display_name": "pytorch",
   "language": "python",
   "name": "python3"
  },
  "language_info": {
   "codemirror_mode": {
    "name": "ipython",
    "version": 3
   },
   "file_extension": ".py",
   "mimetype": "text/x-python",
   "name": "python",
   "nbconvert_exporter": "python",
   "pygments_lexer": "ipython3",
   "version": "3.9.12"
  }
 },
 "nbformat": 4,
 "nbformat_minor": 2
}
