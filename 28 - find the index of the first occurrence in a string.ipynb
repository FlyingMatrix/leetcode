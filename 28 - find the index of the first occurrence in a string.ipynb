{
 "cells": [
  {
   "cell_type": "code",
   "execution_count": null,
   "id": "6509b383",
   "metadata": {},
   "outputs": [],
   "source": [
    "# 28 - Find the Index of the First Occurrence in a String\n",
    "\"\"\"\n",
    "    Given two strings needle and haystack, \n",
    "    return the index of the first occurrence of needle in haystack, or -1 if needle is not part of haystack.\n",
    "\"\"\""
   ]
  },
  {
   "cell_type": "code",
   "execution_count": null,
   "id": "12b850dd",
   "metadata": {},
   "outputs": [],
   "source": [
    "# My accepted solution:\n",
    "#\n",
    "class Solution(object):\n",
    "    def strStr(self, haystack, needle):\n",
    "        \"\"\"\n",
    "        :type haystack: str\n",
    "        :type needle: str\n",
    "        :rtype: int\n",
    "        \"\"\"\n",
    "        return haystack.find(needle)\n",
    "    \n",
    "# Time complexity: let n = len(haystack), m = len(needle)\n",
    "#                  worst case - O(n*m), average - O(n+m) by using .find()\n",
    "# Space complexity: O(1)"
   ]
  }
 ],
 "metadata": {
  "language_info": {
   "name": "python"
  }
 },
 "nbformat": 4,
 "nbformat_minor": 5
}
