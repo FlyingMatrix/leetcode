{
 "cells": [
  {
   "cell_type": "code",
   "execution_count": null,
   "id": "448245ce",
   "metadata": {},
   "outputs": [],
   "source": [
    "# 104 - Maximum Depth of Binary Tree\n",
    "\"\"\"\n",
    "    Given the root of a binary tree, return its maximum depth.\n",
    "    A binary tree's maximum depth is the number of nodes along the longest path from the root node down to the farthest leaf node.\n",
    "\"\"\""
   ]
  },
  {
   "cell_type": "code",
   "execution_count": null,
   "id": "dde4ec3f",
   "metadata": {},
   "outputs": [],
   "source": [
    "# My accepted solution:\n",
    "#\n",
    "# Definition for a binary tree node.\n",
    "# class TreeNode(object):\n",
    "#     def __init__(self, val=0, left=None, right=None):\n",
    "#         self.val = val\n",
    "#         self.left = left\n",
    "#         self.right = right\n",
    "\n",
    "class Solution(object):\n",
    "    def maxDepth(self, root):\n",
    "        \"\"\"\n",
    "        :type root: Optional[TreeNode]\n",
    "        :rtype: int\n",
    "        \"\"\"\n",
    "        if root == None:\n",
    "            return 0\n",
    "        else:\n",
    "            left_depth = self.maxDepth(root.left)\n",
    "            right_depth = self.maxDepth(root.right)\n",
    "            return 1 + max(left_depth, right_depth)\n",
    "        \n",
    "# Time complexity: O(n), while n is the number of nodes in the binary tree\n",
    "# Space complexity: the space complexity equals to the height of the binary tree\n",
    "#                   - Best case: O(log(n)), for a Balanced Binary Tree\n",
    "#                   - Worst case: O(n), for a Skewed Binary Tree"
   ]
  }
 ],
 "metadata": {
  "language_info": {
   "name": "python"
  }
 },
 "nbformat": 4,
 "nbformat_minor": 5
}
