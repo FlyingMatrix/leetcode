{
 "cells": [
  {
   "cell_type": "code",
   "execution_count": null,
   "id": "57fca1b2",
   "metadata": {},
   "outputs": [],
   "source": [
    "# 117 - Populating Next Right Pointers in Each Node II\n",
    "\"\"\"\n",
    "    Given a binary tree\n",
    "\n",
    "        struct Node {\n",
    "            int val;\n",
    "            Node *left;\n",
    "            Node *right;\n",
    "            Node *next;\n",
    "            }\n",
    "            \n",
    "    Populate each next pointer to point to its next right node. If there is no next right node, the next pointer should be set to NULL.\n",
    "    Initially, all next pointers are set to NULL.\n",
    "\"\"\""
   ]
  },
  {
   "cell_type": "code",
   "execution_count": null,
   "id": "23765698",
   "metadata": {},
   "outputs": [],
   "source": [
    "# My accepted solution:\n",
    "#\n",
    "\"\"\"\n",
    "# Definition for a Node.\n",
    "class Node(object):\n",
    "    def __init__(self, val=0, left=None, right=None, next=None):\n",
    "        self.val = val\n",
    "        self.left = left\n",
    "        self.right = right\n",
    "        self.next = next\n",
    "\"\"\"\n",
    "\n",
    "class Solution(object):\n",
    "    def connect(self, root):\n",
    "        \"\"\"\n",
    "        :type root: Node\n",
    "        :rtype: Node\n",
    "        \"\"\"\n",
    "        def getNext(node): # return next valid child node\n",
    "            while node:\n",
    "                if node.left:\n",
    "                    return node.left\n",
    "                if node.right:\n",
    "                    return node.right\n",
    "                node = node.next\n",
    "            return None\n",
    "\n",
    "        if root == None:\n",
    "            return None\n",
    "        elif root.left and root.right:\n",
    "            root.left.next = root.right\n",
    "            root.right.next = getNext(root.next)\n",
    "        elif root.left:\n",
    "            root.left.next = getNext(root.next)\n",
    "        elif root.right:\n",
    "            root.right.next = getNext(root.next)\n",
    "        # Process right child before left to ensure next pointers are already set\n",
    "        self.connect(root.right)\n",
    "        self.connect(root.left)\n",
    "        return root\n",
    "    \n",
    "# Time complexity: each node will be visited once, so time complexity = O(n)\n",
    "# Space complexity: the recursion corresponds to the height of the binary tree, so space complexity = O(h)\n",
    "#                   best case - O(log(n)) for a balanced binary tree\n",
    "#                   worst case - O(n) for a skewed binary tree"
   ]
  }
 ],
 "metadata": {
  "language_info": {
   "name": "python"
  }
 },
 "nbformat": 4,
 "nbformat_minor": 5
}
