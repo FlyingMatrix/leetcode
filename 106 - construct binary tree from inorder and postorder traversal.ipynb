{
 "cells": [
  {
   "cell_type": "code",
   "execution_count": null,
   "id": "eac18df4",
   "metadata": {},
   "outputs": [],
   "source": [
    "# 106 - Construct Binary Tree from Inorder and Postorder Traversal\n",
    "\"\"\"\n",
    "    Given two integer arrays inorder and postorder where inorder is the inorder traversal of a binary tree \n",
    "    and postorder is the postorder traversal of the same tree, construct and return the binary tree.\n",
    "\"\"\""
   ]
  },
  {
   "cell_type": "code",
   "execution_count": null,
   "id": "df0f2c7e",
   "metadata": {},
   "outputs": [],
   "source": [
    "# My accepted solution:\n",
    "#\n",
    "# Definition for a binary tree node.\n",
    "# class TreeNode(object):\n",
    "#     def __init__(self, val=0, left=None, right=None):\n",
    "#         self.val = val\n",
    "#         self.left = left\n",
    "#         self.right = right\n",
    "\n",
    "class Solution(object):\n",
    "    def buildTree(self, inorder, postorder):\n",
    "        \"\"\"\n",
    "        :type inorder: List[int]\n",
    "        :type postorder: List[int]\n",
    "        :rtype: Optional[TreeNode]\n",
    "        \"\"\"\n",
    "        if len(inorder) * len(postorder) == 0:\n",
    "            return None\n",
    "        else:\n",
    "            root_val = postorder[-1]\n",
    "            rootNode = TreeNode(root_val)\n",
    "            rootIndex = inorder.index(root_val)\n",
    "            rootNode.left = self.buildTree(inorder[:rootIndex], postorder[:rootIndex])\n",
    "            rootNode.right = self.buildTree(inorder[rootIndex+1:], postorder[rootIndex:-1])\n",
    "            return rootNode\n",
    "        \n",
    "\"\"\"\n",
    "    Time complexity analysis: \n",
    "        Let n be the number of nodes in the tree.\n",
    "        In the worst case (like a skewed tree), the recursion goes n levels deep.\n",
    "        At each level:\n",
    "            .index() takes O(n)\n",
    "            Slicing takes O(n)\n",
    "        So overall: n levels * O(n) work per level = O(n^2)\n",
    "\n",
    "    Space complexity analysis:\n",
    "        For recursion depth, in the worst case (like a skewed tree), the depth = n, so recursion = O(n).\n",
    "        For list slicing, new sublists are created, these new lists occupy new memory.\n",
    "        For each recursion, the extra space for creating sublists corresponds to O(n).\n",
    "        So overall: recursion O(n) * slicing list O(n) = O(n^2)\n",
    "\"\"\"\n",
    "\n",
    "# Time complexity: O(n^2), here n is the number of nodes in the binary tree\n",
    "# Space complexity: O(n^2) "
   ]
  }
 ],
 "metadata": {
  "language_info": {
   "name": "python"
  }
 },
 "nbformat": 4,
 "nbformat_minor": 5
}
