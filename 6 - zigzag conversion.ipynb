{
 "cells": [
  {
   "cell_type": "code",
   "execution_count": null,
   "id": "2f01ca50",
   "metadata": {},
   "outputs": [],
   "source": [
    "# 6 - Zigzag Conversion\n",
    "\"\"\"\n",
    "    The string \"PAYPALISHIRING\" is written in a zigzag pattern on a given number of rows like this: \n",
    "    (you may want to display this pattern in a fixed font for better legibility)\n",
    "\n",
    "    P   A   H   N\n",
    "    A P L S I I G\n",
    "    Y   I   R\n",
    "\n",
    "    And then read line by line: \"PAHNAPLSIIGYIR\"\n",
    "    Write the code that will take a string and make this conversion given a number of rows:\n",
    "    string convert(string s, int numRows);\n",
    "\"\"\""
   ]
  },
  {
   "cell_type": "code",
   "execution_count": null,
   "id": "0a502f40",
   "metadata": {},
   "outputs": [],
   "source": [
    "# My accepted solution:\n",
    "#\n",
    "class Solution(object):\n",
    "    def convert(self, s, numRows):\n",
    "        \"\"\"\n",
    "        :type s: str\n",
    "        :type numRows: int\n",
    "        :rtype: str\n",
    "        \"\"\"\n",
    "        if numRows == 1 or len(s) <= numRows:\n",
    "            return s\n",
    "\n",
    "        array = [''] * numRows\n",
    "        currentRow = 0\n",
    "        moveDown = False\n",
    "\n",
    "        for char in s:\n",
    "            array[currentRow] += char\n",
    "            if currentRow == numRows - 1 or currentRow == 0:\n",
    "                moveDown = not moveDown\n",
    "            currentRow += 1 if moveDown else -1\n",
    "\n",
    "        return \"\".join(array)\n",
    "    \n",
    "# Time complexity: O(n), while n = len(s)\n",
    "# Space complexity: O(n)"
   ]
  }
 ],
 "metadata": {
  "language_info": {
   "name": "python"
  }
 },
 "nbformat": 4,
 "nbformat_minor": 5
}
