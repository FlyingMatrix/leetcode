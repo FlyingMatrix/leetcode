{
 "cells": [
  {
   "cell_type": "code",
   "execution_count": null,
   "metadata": {},
   "outputs": [],
   "source": [
    "# 125 - Valid Palindrome\n",
    "\"\"\"\n",
    "    A phrase is a palindrome if, after converting all uppercase letters into lowercase letters and removing all non-alphanumeric characters, \n",
    "    it reads the same forward and backward. Alphanumeric characters include letters and numbers.\n",
    "\n",
    "    Given a string s, return true if it is a palindrome, or false otherwise.\n",
    "\"\"\""
   ]
  },
  {
   "cell_type": "code",
   "execution_count": null,
   "metadata": {},
   "outputs": [],
   "source": [
    "# My accepted solution I\n",
    "class Solution(object):\n",
    "    def isPalindrome(self, s):\n",
    "        \"\"\"\n",
    "        :type s: str\n",
    "        :rtype: bool\n",
    "        \"\"\"\n",
    "        ss = []\n",
    "        output = True\n",
    "\n",
    "        for element in s:\n",
    "            if element.isalnum():\n",
    "                ss.append(element.lower())\n",
    "\n",
    "        i, j = 0, len(ss)-1\n",
    "        while i <= j:\n",
    "            if ss[i] != ss[j]:\n",
    "                output = False\n",
    "                break\n",
    "            else:\n",
    "                i += 1\n",
    "                j -= 1\n",
    "        \n",
    "        return output"
   ]
  },
  {
   "cell_type": "code",
   "execution_count": null,
   "metadata": {},
   "outputs": [],
   "source": [
    "# My accepted solution II - a better one\n",
    "class Solution(object):\n",
    "    def isPalindrome(self, s):\n",
    "        \"\"\"\n",
    "        :type s: str\n",
    "        :rtype: bool\n",
    "        \"\"\"\n",
    "        output = True\n",
    "\n",
    "        i = 0\n",
    "        j = len(s)-1\n",
    "\n",
    "        while i <= j:\n",
    "            if not s[i].isalnum():\n",
    "                i += 1\n",
    "                continue\n",
    "\n",
    "            if not s[j].isalnum():\n",
    "                j -= 1\n",
    "                continue\n",
    "\n",
    "            if s[i].lower() == s[j].lower():\n",
    "                i += 1\n",
    "                j -= 1\n",
    "            else:\n",
    "                output = False\n",
    "                break\n",
    "        \n",
    "        return output"
   ]
  }
 ],
 "metadata": {
  "kernelspec": {
   "display_name": "pytorch",
   "language": "python",
   "name": "python3"
  },
  "language_info": {
   "name": "python",
   "version": "3.9.19"
  }
 },
 "nbformat": 4,
 "nbformat_minor": 2
}
