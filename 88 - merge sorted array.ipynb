{
 "cells": [
  {
   "cell_type": "code",
   "execution_count": null,
   "metadata": {},
   "outputs": [],
   "source": [
    "# 88 - Merge Sorted Array\n",
    "\"\"\"\n",
    "    You are given two integer arrays nums1 and nums2, sorted in non-decreasing order, and two integers m and n,\n",
    "    representing the number of elements in nums1 and nums2 respectively.\n",
    "\n",
    "    Merge nums1 and nums2 into a single array sorted in non-decreasing order.\n",
    "\n",
    "    The final sorted array should not be returned by the function, but instead be stored inside the array nums1. \n",
    "    To accommodate this, nums1 has a length of m + n, where the first m elements denote the elements that should be merged, \n",
    "    and the last n elements are set to 0 and should be ignored. nums2 has a length of n.\n",
    "\"\"\""
   ]
  },
  {
   "cell_type": "code",
   "execution_count": null,
   "metadata": {},
   "outputs": [],
   "source": [
    "# My accepted solution\n",
    "class Solution(object):\n",
    "    def merge(self, nums1, m, nums2, n):\n",
    "        \"\"\"\n",
    "        :type nums1: List[int]\n",
    "        :type m: int\n",
    "        :type nums2: List[int]\n",
    "        :type n: int\n",
    "        :rtype: None Do not return anything, modify nums1 in-place instead.\n",
    "        \"\"\"\n",
    "        if m == 0:\n",
    "            for i in range(n):\n",
    "                nums1[i] = nums2[i]\n",
    "        elif n == 0:\n",
    "            pass\n",
    "        else:\n",
    "            for i in range(n):\n",
    "                nums1[m+i] = nums2[i]\n",
    "            nums1.sort()"
   ]
  }
 ],
 "metadata": {
  "language_info": {
   "name": "python"
  }
 },
 "nbformat": 4,
 "nbformat_minor": 2
}
