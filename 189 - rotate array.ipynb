{
 "cells": [
  {
   "cell_type": "code",
   "execution_count": null,
   "id": "21e64305",
   "metadata": {},
   "outputs": [],
   "source": [
    "# 189 - Rotate Array\n",
    "\"\"\"\n",
    "    Given an integer array nums, rotate the array to the right by k steps, where k is non-negative.\n",
    "\n",
    "    Example 1:\n",
    "    Input: nums = [1,2,3,4,5,6,7], k = 3\n",
    "    Output: [5,6,7,1,2,3,4]\n",
    "    Explanation:\n",
    "    rotate 1 steps to the right: [7,1,2,3,4,5,6]\n",
    "    rotate 2 steps to the right: [6,7,1,2,3,4,5]\n",
    "    rotate 3 steps to the right: [5,6,7,1,2,3,4]\n",
    "\n",
    "    Example 2:\n",
    "    Input: nums = [-1,-100,3,99], k = 2\n",
    "    Output: [3,99,-1,-100]\n",
    "    Explanation: \n",
    "    rotate 1 steps to the right: [99,-1,-100,3]\n",
    "    rotate 2 steps to the right: [3,99,-1,-100]\n",
    "\"\"\""
   ]
  },
  {
   "cell_type": "code",
   "execution_count": null,
   "id": "c466dac5",
   "metadata": {},
   "outputs": [],
   "source": [
    "# My solution I (accepted, but Time Limit Exceeded):\n",
    "#\n",
    "class Solution(object):\n",
    "    def rotate(self, nums, k):\n",
    "        \"\"\"\n",
    "        :type nums: List[int]\n",
    "        :type k: int\n",
    "        :rtype: None Do not return anything, modify nums in-place instead.\n",
    "        \"\"\"\n",
    "        if k == 0 or len(nums) == 1:\n",
    "            return nums\n",
    "        \n",
    "        n = k % len(nums)\n",
    "        for i in range(n):\n",
    "            last = nums.pop()\n",
    "            nums.insert(0, last) \n",
    "        return nums\n",
    "\n",
    "# Time complexity: Let d = len(nums), for loop -> k % d\n",
    "#                  for each loop, nums.pop() -> O(1), nums.insert() -> O(d) because all elements need shift\n",
    "#                  Total time = O(k % d) * (O(1) + O(d)) = O(k % d) * O(d)\n",
    "#                  - worst case: O(d^2), if k is large\n",
    "#                  - general case: O(k*d), when k < d\n",
    "# Space complexity: O(1)"
   ]
  },
  {
   "cell_type": "code",
   "execution_count": null,
   "id": "4fcc46e1",
   "metadata": {},
   "outputs": [],
   "source": [
    "# My accepted solution II:\n",
    "#\n",
    "class Solution(object):\n",
    "    def rotate(self, nums, k):\n",
    "        \"\"\"\n",
    "        :type nums: List[int]\n",
    "        :type k: int\n",
    "        :rtype: None Do not return anything, modify nums in-place instead.\n",
    "        \"\"\"\n",
    "        if k == 0 or len(nums) == 1:\n",
    "            return nums\n",
    "        \n",
    "        n = k % len(nums)\n",
    "        nums.reverse()\n",
    "        nums[:n] = reversed(nums[:n])\n",
    "        nums[n:] = reversed(nums[n:])\n",
    "        return nums\n",
    "\n",
    "# Time complexity: Let d = len(nums)\n",
    "#                  nums.reverse() -> O(d), reversed(nums[:n]) -> O(n), reversed(nums[n:]) -> O(d-n)\n",
    "#                  Total time = O(d) + O(n) + O(d-n) = O(d), so time complexity = O(d)\n",
    "# Space complexity: slices (nums[:n], nums[n:]) creates temporary lists\n",
    "#                   Total space = O(n) + O(d-n) = O(d), so space complexity = O(d)"
   ]
  }
 ],
 "metadata": {
  "language_info": {
   "name": "python"
  }
 },
 "nbformat": 4,
 "nbformat_minor": 5
}
