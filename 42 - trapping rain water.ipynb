{
 "cells": [
  {
   "cell_type": "code",
   "execution_count": null,
   "id": "7fc0f374",
   "metadata": {},
   "outputs": [],
   "source": [
    "# 42 - Trapping Rain Water\n",
    "\"\"\"\n",
    "    Given n non-negative integers representing an elevation map where the width of each bar is 1, \n",
    "    compute how much water it can trap after raining.\n",
    "\n",
    "    Example 1:\n",
    "        Input: height = [0,1,0,2,1,0,1,3,2,1,2,1]\n",
    "        Output: 6\n",
    "        Explanation: The above elevation map (black section) is represented by array [0,1,0,2,1,0,1,3,2,1,2,1]. \n",
    "        In this case, 6 units of rain water (blue section) are being trapped.\n",
    "\n",
    "    Example 2:\n",
    "        Input: height = [4,2,0,3,2,5]\n",
    "        Output: 9\n",
    "\"\"\""
   ]
  },
  {
   "cell_type": "code",
   "execution_count": 2,
   "id": "f8a3a008",
   "metadata": {},
   "outputs": [],
   "source": [
    "# My accepted solution:\n",
    "#\n",
    "class Solution(object):\n",
    "    def trap(self, height):\n",
    "        \"\"\"\n",
    "        :type height: List[int]\n",
    "        :rtype: int\n",
    "        \"\"\"\n",
    "        left = 0\n",
    "        right = len(height) - 1\n",
    "        left_max = height[left]\n",
    "        right_max = height[right]\n",
    "        water = 0\n",
    "        \n",
    "        if not height:\n",
    "            return 0\n",
    "\n",
    "        while left < right:\n",
    "            if left_max <= right_max: # water overflows from left\n",
    "                left += 1\n",
    "                left_max = max(left_max, height[left])\n",
    "                water += left_max - height[left]\n",
    "            else: # water overflows from right\n",
    "                right -= 1\n",
    "                right_max = max(right_max, height[right])\n",
    "                water += right_max - height[right]\n",
    "        \n",
    "        return water\n",
    "    \n",
    "# Time complexity: O(n), while n = len(height)\n",
    "# Space complexity: O(1)"
   ]
  },
  {
   "cell_type": "code",
   "execution_count": 4,
   "id": "1be6f678",
   "metadata": {},
   "outputs": [
    {
     "name": "stdout",
     "output_type": "stream",
     "text": [
      "6\n",
      "9\n"
     ]
    }
   ],
   "source": [
    "# Result Verification\n",
    "height = [0,1,0,2,1,0,1,3,2,1,2,1]\n",
    "print(Solution().trap(height))\n",
    "\n",
    "height = [4,2,0,3,2,5]\n",
    "print(Solution().trap(height))"
   ]
  }
 ],
 "metadata": {
  "kernelspec": {
   "display_name": "pytorch",
   "language": "python",
   "name": "python3"
  },
  "language_info": {
   "codemirror_mode": {
    "name": "ipython",
    "version": 3
   },
   "file_extension": ".py",
   "mimetype": "text/x-python",
   "name": "python",
   "nbconvert_exporter": "python",
   "pygments_lexer": "ipython3",
   "version": "3.9.20"
  }
 },
 "nbformat": 4,
 "nbformat_minor": 5
}
